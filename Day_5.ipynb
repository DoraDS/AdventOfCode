{
  "nbformat": 4,
  "nbformat_minor": 0,
  "metadata": {
    "colab": {
      "provenance": []
    },
    "kernelspec": {
      "name": "python3",
      "display_name": "Python 3"
    },
    "language_info": {
      "name": "python"
    }
  },
  "cells": [
    {
      "cell_type": "markdown",
      "source": [
        "--- Day 5: Supply Stacks ---"
      ],
      "metadata": {
        "id": "yPGlpyVbxCVE"
      }
    },
    {
      "cell_type": "markdown",
      "source": [
        "Go to Advent of Code (https://adventofcode.com/) for the full description of the challenge solved here."
      ],
      "metadata": {
        "id": "asYOWCSbxFx4"
      }
    },
    {
      "cell_type": "markdown",
      "source": [
        "Summary of challenge: The Day 5 challenge contains an in input that features letters referring to crates and letters referring to a procedure for handling crates. I seperated the input into two different Day5_inputs - one for crates and one for the procedure. Day5_input_procedure contains commands for handling the crates. Each line corresponds to one command. Day5_input_crates represents 9 crates and contains various letters. Each line corresponds to letters contained at that position in other crates (see below). In part 1, we need to determine what crate ends up on top of each stack after the crates are moved one by one according to the procedure. In part 2, we need to determine what crate ends up on top of each stack after the crates are moved simultaneously according to the procedure."
      ],
      "metadata": {
        "id": "ErrdJXUMxH3q"
      }
    },
    {
      "cell_type": "code",
      "execution_count": 1,
      "metadata": {
        "id": "RB04ifxS9401"
      },
      "outputs": [],
      "source": [
        "import re\n",
        "import pandas as pd"
      ]
    },
    {
      "cell_type": "markdown",
      "source": [
        "Part 1"
      ],
      "metadata": {
        "id": "pz5wqUwfxJJ1"
      }
    },
    {
      "cell_type": "markdown",
      "source": [
        "What crate ends up on top of each stack after the crates are moved one by one according to the procedure?"
      ],
      "metadata": {
        "id": "B0n3naBrryuc"
      }
    },
    {
      "cell_type": "code",
      "source": [
        "# load the procedure file as a list\n",
        "\n",
        "procedure=[]\n",
        "with open('Day5_input_procedure.txt') as file:\n",
        "  for i in file:\n",
        "    procedure.append(i)\n",
        "procedure[:2]"
      ],
      "metadata": {
        "colab": {
          "base_uri": "https://localhost:8080/"
        },
        "id": "o0_yg3399Ysj",
        "outputId": "9e4362a0-ec19-4fd4-a5b8-9ff964de5bae"
      },
      "execution_count": 2,
      "outputs": [
        {
          "output_type": "execute_result",
          "data": {
            "text/plain": [
              "['move 3 from 8 to 9\\n', 'move 2 from 2 to 8\\n']"
            ]
          },
          "metadata": {},
          "execution_count": 2
        }
      ]
    },
    {
      "cell_type": "code",
      "source": [
        "# Checking the number of procedure elements\n",
        "\n",
        "len(procedure)"
      ],
      "metadata": {
        "colab": {
          "base_uri": "https://localhost:8080/"
        },
        "id": "NJloKnwV9uBO",
        "outputId": "be4272d9-df9e-41d3-8549-5ac01e2a579c"
      },
      "execution_count": 3,
      "outputs": [
        {
          "output_type": "execute_result",
          "data": {
            "text/plain": [
              "502"
            ]
          },
          "metadata": {},
          "execution_count": 3
        }
      ]
    },
    {
      "cell_type": "code",
      "source": [
        "# Extracting the numbers from the procedure using regex\n",
        "\n",
        "pattern = r'[a-z]' # setting the pattern for regex\n",
        "numbers=[] # extracted numbers will be stored here\n",
        "for i in range(0,502):\n",
        "  numbers.append(re.sub(pattern, '', procedure[i])) # removing the letters from the procedure and storing the remaining numbers\n",
        "numbers[0:2]"
      ],
      "metadata": {
        "colab": {
          "base_uri": "https://localhost:8080/"
        },
        "id": "-KujGSeM9Yq0",
        "outputId": "6672788b-4734-4789-d121-0c613f4d1fcd"
      },
      "execution_count": 4,
      "outputs": [
        {
          "output_type": "execute_result",
          "data": {
            "text/plain": [
              "[' 3  8  9\\n', ' 2  2  8\\n']"
            ]
          },
          "metadata": {},
          "execution_count": 4
        }
      ]
    },
    {
      "cell_type": "code",
      "source": [
        "# Checking the number of numbers elements\n",
        "\n",
        "len(numbers)"
      ],
      "metadata": {
        "colab": {
          "base_uri": "https://localhost:8080/"
        },
        "id": "qTQRUm76BA4V",
        "outputId": "d2ce741a-fb2e-45d4-cd02-873231004189"
      },
      "execution_count": 5,
      "outputs": [
        {
          "output_type": "execute_result",
          "data": {
            "text/plain": [
              "502"
            ]
          },
          "metadata": {},
          "execution_count": 5
        }
      ]
    },
    {
      "cell_type": "code",
      "source": [
        "# Removing the '\\n' from the numbers list\n",
        "\n",
        "for i in range(0,502):\n",
        "  try:\n",
        "    numbers[i]=numbers[i].replace('\\n', '')\n",
        "  except:\n",
        "    ValueError # ValueError may occur when an element does not contain '\\n'\n",
        "    continue\n",
        "    \n",
        "numbers[0:2]"
      ],
      "metadata": {
        "colab": {
          "base_uri": "https://localhost:8080/"
        },
        "id": "sWvnreN39Yn7",
        "outputId": "650fd18f-d6ae-4fd9-d1d4-e63ce049e908"
      },
      "execution_count": 6,
      "outputs": [
        {
          "output_type": "execute_result",
          "data": {
            "text/plain": [
              "[' 3  8  9', ' 2  2  8']"
            ]
          },
          "metadata": {},
          "execution_count": 6
        }
      ]
    },
    {
      "cell_type": "code",
      "source": [
        "# Splitting the different numbers in the numbers list\n",
        "# Note - split results in a list within a list\n",
        "\n",
        "for i in range(0,502):\n",
        "  numbers[i]=numbers[i].split(' ')\n",
        "numbers[0:2]"
      ],
      "metadata": {
        "colab": {
          "base_uri": "https://localhost:8080/"
        },
        "id": "eedetryF-0-T",
        "outputId": "ee5212d2-9fe5-49ec-d157-6535b996defd"
      },
      "execution_count": 7,
      "outputs": [
        {
          "output_type": "execute_result",
          "data": {
            "text/plain": [
              "[['', '3', '', '8', '', '9'], ['', '2', '', '2', '', '8']]"
            ]
          },
          "metadata": {},
          "execution_count": 7
        }
      ]
    },
    {
      "cell_type": "code",
      "source": [
        "# Removing the empty space in the numbers list\n",
        "\n",
        "for i in range(0,502):\n",
        "  numbers[i].remove('')\n",
        "  numbers[i].remove('')\n",
        "  numbers[i].remove('')\n",
        "numbers[0:2]"
      ],
      "metadata": {
        "colab": {
          "base_uri": "https://localhost:8080/"
        },
        "id": "iEZlZla_-Wd9",
        "outputId": "6c879ba1-24b2-4385-c2ba-b5211ebfdd30"
      },
      "execution_count": 8,
      "outputs": [
        {
          "output_type": "execute_result",
          "data": {
            "text/plain": [
              "[['3', '8', '9'], ['2', '2', '8']]"
            ]
          },
          "metadata": {},
          "execution_count": 8
        }
      ]
    },
    {
      "cell_type": "code",
      "source": [
        "# Checking the number of outer lists in numbers\n",
        "\n",
        "len(numbers)"
      ],
      "metadata": {
        "colab": {
          "base_uri": "https://localhost:8080/"
        },
        "id": "hj2_G83LBOKg",
        "outputId": "3e2aea57-4d6b-413e-ad30-ebeba5c6301f"
      },
      "execution_count": 9,
      "outputs": [
        {
          "output_type": "execute_result",
          "data": {
            "text/plain": [
              "502"
            ]
          },
          "metadata": {},
          "execution_count": 9
        }
      ]
    },
    {
      "cell_type": "code",
      "source": [
        "# Checking the length of an outer list in numbers\n",
        "\n",
        "len(numbers[0])"
      ],
      "metadata": {
        "colab": {
          "base_uri": "https://localhost:8080/"
        },
        "id": "E9UTt5aO9YlZ",
        "outputId": "0d0b0d9c-ba62-44c7-ca1e-f897bf47c429"
      },
      "execution_count": 10,
      "outputs": [
        {
          "output_type": "execute_result",
          "data": {
            "text/plain": [
              "3"
            ]
          },
          "metadata": {},
          "execution_count": 10
        }
      ]
    },
    {
      "cell_type": "code",
      "source": [
        "# Changing the datatype of the numbers elements into integers\n",
        "\n",
        "for i in range(0,502): # i represents the index of the outer list\n",
        "  for z in range(3): # z represents the index of elements inside the outer list\n",
        "    numbers[i][z]=int(numbers[i][z])\n",
        "type(numbers[2][2])"
      ],
      "metadata": {
        "colab": {
          "base_uri": "https://localhost:8080/"
        },
        "id": "4U6KFJuf_gUn",
        "outputId": "be3f07ba-4515-4efb-95b9-3ffcf262d596"
      },
      "execution_count": 11,
      "outputs": [
        {
          "output_type": "execute_result",
          "data": {
            "text/plain": [
              "int"
            ]
          },
          "metadata": {},
          "execution_count": 11
        }
      ]
    },
    {
      "cell_type": "code",
      "source": [
        "# Loading the crates file as a list\n",
        "\n",
        "crates = []\n",
        "with open('Day5_input_crates.txt') as file:\n",
        "    for line in file:\n",
        "      crates.append(line)\n",
        "crates"
      ],
      "metadata": {
        "colab": {
          "base_uri": "https://localhost:8080/"
        },
        "id": "5yfAVB8cBeGe",
        "outputId": "d648ddcb-645c-411c-daef-8a324a56f278"
      },
      "execution_count": 12,
      "outputs": [
        {
          "output_type": "execute_result",
          "data": {
            "text/plain": [
              "['[T]     [D]         [L]            \\n',\n",
              " '[R]     [S] [G]     [P]         [H]\\n',\n",
              " '[G]     [H] [W]     [R] [L]     [P]\\n',\n",
              " '[W]     [G] [F] [H] [S] [M]     [L]\\n',\n",
              " '[Q]     [V] [B] [J] [H] [N] [R] [N]\\n',\n",
              " '[M] [R] [R] [P] [M] [T] [H] [Q] [C]\\n',\n",
              " '[F] [F] [Z] [H] [S] [Z] [T] [D] [S]\\n',\n",
              " '[P] [H] [P] [Q] [P] [M] [P] [F] [D]\\n',\n",
              " ' 1   2   3   4   5   6   7   8   9 ']"
            ]
          },
          "metadata": {},
          "execution_count": 12
        }
      ]
    },
    {
      "cell_type": "code",
      "source": [
        "# Checking the length of the crates list\n",
        "\n",
        "len(crates)"
      ],
      "metadata": {
        "colab": {
          "base_uri": "https://localhost:8080/"
        },
        "id": "TDEzi789Bg8m",
        "outputId": "af4937ec-21b3-411c-96f7-36aa9253bff6"
      },
      "execution_count": 13,
      "outputs": [
        {
          "output_type": "execute_result",
          "data": {
            "text/plain": [
              "9"
            ]
          },
          "metadata": {},
          "execution_count": 13
        }
      ]
    },
    {
      "cell_type": "code",
      "source": [
        "# Tidying up the crates list for easier leveraging\n",
        "\n",
        "for i in range(0,9):\n",
        "  try:\n",
        "    crates[i]=crates[i].replace('\\n', '')\n",
        "    crates[i]=crates[i].replace('[', '-') # putting '-' instead of '' makes the list elements more readable\n",
        "    crates[i]=crates[i].replace(']', '-')\n",
        "    crates[i]=crates[i].replace('', '-')\n",
        "  except:\n",
        "    ValueError\n",
        "    continue\n",
        "\n",
        "# The list contains each crate as the same index on different elements\n",
        "crates"
      ],
      "metadata": {
        "colab": {
          "base_uri": "https://localhost:8080/"
        },
        "id": "rcCkeOKgBm_L",
        "outputId": "aa144f16-2760-4cd5-809f-a6442f885f80"
      },
      "execution_count": 14,
      "outputs": [
        {
          "output_type": "execute_result",
          "data": {
            "text/plain": [
              "['---T--- - - - - ---D--- - - - - - - - - ---L--- - - - - - - - - - - - -',\n",
              " '---R--- - - - - ---S--- ---G--- - - - - ---P--- - - - - - - - - ---H---',\n",
              " '---G--- - - - - ---H--- ---W--- - - - - ---R--- ---L--- - - - - ---P---',\n",
              " '---W--- - - - - ---G--- ---F--- ---H--- ---S--- ---M--- - - - - ---L---',\n",
              " '---Q--- - - - - ---V--- ---B--- ---J--- ---H--- ---N--- ---R--- ---N---',\n",
              " '---M--- ---R--- ---R--- ---P--- ---M--- ---T--- ---H--- ---Q--- ---C---',\n",
              " '---F--- ---F--- ---Z--- ---H--- ---S--- ---Z--- ---T--- ---D--- ---S---',\n",
              " '---P--- ---H--- ---P--- ---Q--- ---P--- ---M--- ---P--- ---F--- ---D---',\n",
              " '- -1- - - -2- - - -3- - - -4- - - -5- - - -6- - - -7- - - -8- - - -9- -']"
            ]
          },
          "metadata": {},
          "execution_count": 14
        }
      ]
    },
    {
      "cell_type": "code",
      "source": [
        "# Checking the length of an element in the crates list\n",
        "\n",
        "len(crates[1])"
      ],
      "metadata": {
        "colab": {
          "base_uri": "https://localhost:8080/"
        },
        "id": "awXEsFVBBw22",
        "outputId": "535a73f0-07f6-4a92-f935-be02ac211960"
      },
      "execution_count": 15,
      "outputs": [
        {
          "output_type": "execute_result",
          "data": {
            "text/plain": [
              "71"
            ]
          },
          "metadata": {},
          "execution_count": 15
        }
      ]
    },
    {
      "cell_type": "code",
      "source": [
        "# Creating a crates dataframe\n",
        "\n",
        "crates_df=pd.DataFrame(crates)"
      ],
      "metadata": {
        "id": "9ez_SdnEB0gw"
      },
      "execution_count": 16,
      "outputs": []
    },
    {
      "cell_type": "code",
      "source": [
        "# Creating a new list from the dataframe\n",
        "\n",
        "storedf = ''\n",
        "listdf = []\n",
        "for i in range(0, 73, 8):\n",
        "  for z in range(0, 9):\n",
        "    storedf+=crates_df[0][z][i-8:i]\n",
        "  listdf.append(storedf)\n",
        "  storedf=''\n",
        "\n",
        "# The new list contains one crate per list element\n",
        "listdf"
      ],
      "metadata": {
        "colab": {
          "base_uri": "https://localhost:8080/"
        },
        "id": "5liqhERiB2-0",
        "outputId": "73f137e2-39ec-423e-e9ca-29b3f8ec1477"
      },
      "execution_count": 18,
      "outputs": [
        {
          "output_type": "execute_result",
          "data": {
            "text/plain": [
              "['',\n",
              " '---T--- ---R--- ---G--- ---W--- ---Q--- ---M--- ---F--- ---P--- - -1- - ',\n",
              " '- - - - - - - - - - - - - - - - - - - - ---R--- ---F--- ---H--- - -2- - ',\n",
              " '---D--- ---S--- ---H--- ---G--- ---V--- ---R--- ---Z--- ---P--- - -3- - ',\n",
              " '- - - - ---G--- ---W--- ---F--- ---B--- ---P--- ---H--- ---Q--- - -4- - ',\n",
              " '- - - - - - - - - - - - ---H--- ---J--- ---M--- ---S--- ---P--- - -5- - ',\n",
              " '---L--- ---P--- ---R--- ---S--- ---H--- ---T--- ---Z--- ---M--- - -6- - ',\n",
              " '- - - - - - - - ---L--- ---M--- ---N--- ---H--- ---T--- ---P--- - -7- - ',\n",
              " '- - - - - - - - - - - - - - - - ---R--- ---Q--- ---D--- ---F--- - -8- - ',\n",
              " '- - - ----H------P------L------N------C------S------D---- -9- -']"
            ]
          },
          "metadata": {},
          "execution_count": 18
        }
      ]
    },
    {
      "cell_type": "code",
      "source": [
        "# The first element is empty - delete\n",
        "\n",
        "del listdf[0]\n",
        "listdf"
      ],
      "metadata": {
        "colab": {
          "base_uri": "https://localhost:8080/"
        },
        "id": "szg9JvMKhVZl",
        "outputId": "fd66edc3-dbfa-4672-e29a-c91bbf496e84"
      },
      "execution_count": 19,
      "outputs": [
        {
          "output_type": "execute_result",
          "data": {
            "text/plain": [
              "['---T--- ---R--- ---G--- ---W--- ---Q--- ---M--- ---F--- ---P--- - -1- - ',\n",
              " '- - - - - - - - - - - - - - - - - - - - ---R--- ---F--- ---H--- - -2- - ',\n",
              " '---D--- ---S--- ---H--- ---G--- ---V--- ---R--- ---Z--- ---P--- - -3- - ',\n",
              " '- - - - ---G--- ---W--- ---F--- ---B--- ---P--- ---H--- ---Q--- - -4- - ',\n",
              " '- - - - - - - - - - - - ---H--- ---J--- ---M--- ---S--- ---P--- - -5- - ',\n",
              " '---L--- ---P--- ---R--- ---S--- ---H--- ---T--- ---Z--- ---M--- - -6- - ',\n",
              " '- - - - - - - - ---L--- ---M--- ---N--- ---H--- ---T--- ---P--- - -7- - ',\n",
              " '- - - - - - - - - - - - - - - - ---R--- ---Q--- ---D--- ---F--- - -8- - ',\n",
              " '- - - ----H------P------L------N------C------S------D---- -9- -']"
            ]
          },
          "metadata": {},
          "execution_count": 19
        }
      ]
    },
    {
      "cell_type": "code",
      "source": [
        "# Checking the length of the listdf list\n",
        "\n",
        "len(listdf)"
      ],
      "metadata": {
        "colab": {
          "base_uri": "https://localhost:8080/"
        },
        "id": "t_W5dYjuB7YS",
        "outputId": "88f52543-9d49-4187-c0b8-c4958846179e"
      },
      "execution_count": 20,
      "outputs": [
        {
          "output_type": "execute_result",
          "data": {
            "text/plain": [
              "9"
            ]
          },
          "metadata": {},
          "execution_count": 20
        }
      ]
    },
    {
      "cell_type": "code",
      "source": [
        "# The '-' is no longer neccessary because each crate is a seperate element\n",
        "\n",
        "for z in range(0,len(listdf)):\n",
        "  listdf[z]=listdf[z].replace('-', '')\n",
        "listdf"
      ],
      "metadata": {
        "colab": {
          "base_uri": "https://localhost:8080/"
        },
        "id": "I9LI6bpVB_M2",
        "outputId": "bb868072-4010-4ffe-f4e5-f28ab5c2a570"
      },
      "execution_count": 22,
      "outputs": [
        {
          "output_type": "execute_result",
          "data": {
            "text/plain": [
              "['T R G W Q M F P  1  ',\n",
              " '                    R F H  2  ',\n",
              " 'D S H G V R Z P  3  ',\n",
              " '    G W F B P H Q  4  ',\n",
              " '            H J M S P  5  ',\n",
              " 'L P R S H T Z M  6  ',\n",
              " '        L M N H T P  7  ',\n",
              " '                R Q D F  8  ',\n",
              " '   HPLNCSD 9 ']"
            ]
          },
          "metadata": {},
          "execution_count": 22
        }
      ]
    },
    {
      "cell_type": "code",
      "source": [
        "# Splitting the listdf elements into a new list (splits)\n",
        "\n",
        "splits= []\n",
        "for i in range(0,9):\n",
        "  splits.append(listdf[i].split(' '))\n",
        "\n",
        "# splits contains letters of each crate seperated\n",
        "splits[0]"
      ],
      "metadata": {
        "colab": {
          "base_uri": "https://localhost:8080/"
        },
        "id": "w_W5c5pVCGyh",
        "outputId": "27ad6455-721c-496d-f53b-64ce0cfd54a1"
      },
      "execution_count": 23,
      "outputs": [
        {
          "output_type": "execute_result",
          "data": {
            "text/plain": [
              "['T', 'R', 'G', 'W', 'Q', 'M', 'F', 'P', '', '1', '', '']"
            ]
          },
          "metadata": {},
          "execution_count": 23
        }
      ]
    },
    {
      "cell_type": "code",
      "source": [
        "# Removing the empty space in the elements of crates\n",
        "\n",
        "for i in range(0,9):\n",
        "  for z in range(0,100): # need to repeat the removal of empty space as most elements contain it multiple times\n",
        "    try:\n",
        "      splits[i].remove('')\n",
        "    except:\n",
        "      ValueError # ValueError occurs when an element does not contain an empty space\n",
        "      continue\n",
        "splits"
      ],
      "metadata": {
        "colab": {
          "base_uri": "https://localhost:8080/"
        },
        "id": "aKLFIDN6CIrT",
        "outputId": "072ff2da-d26c-40d7-9a00-b186839aee11"
      },
      "execution_count": 24,
      "outputs": [
        {
          "output_type": "execute_result",
          "data": {
            "text/plain": [
              "[['T', 'R', 'G', 'W', 'Q', 'M', 'F', 'P', '1'],\n",
              " ['R', 'F', 'H', '2'],\n",
              " ['D', 'S', 'H', 'G', 'V', 'R', 'Z', 'P', '3'],\n",
              " ['G', 'W', 'F', 'B', 'P', 'H', 'Q', '4'],\n",
              " ['H', 'J', 'M', 'S', 'P', '5'],\n",
              " ['L', 'P', 'R', 'S', 'H', 'T', 'Z', 'M', '6'],\n",
              " ['L', 'M', 'N', 'H', 'T', 'P', '7'],\n",
              " ['R', 'Q', 'D', 'F', '8'],\n",
              " ['HPLNCSD', '9']]"
            ]
          },
          "metadata": {},
          "execution_count": 24
        }
      ]
    },
    {
      "cell_type": "code",
      "source": [
        "# Removing the numbers at the end of each element\n",
        "\n",
        "for i in range(0,9):\n",
        "  del splits[i][-1]\n",
        "splits"
      ],
      "metadata": {
        "colab": {
          "base_uri": "https://localhost:8080/"
        },
        "id": "rcjQN3aOCWmK",
        "outputId": "565e6870-3ad0-498a-9890-bea865f5e41b"
      },
      "execution_count": 25,
      "outputs": [
        {
          "output_type": "execute_result",
          "data": {
            "text/plain": [
              "[['T', 'R', 'G', 'W', 'Q', 'M', 'F', 'P'],\n",
              " ['R', 'F', 'H'],\n",
              " ['D', 'S', 'H', 'G', 'V', 'R', 'Z', 'P'],\n",
              " ['G', 'W', 'F', 'B', 'P', 'H', 'Q'],\n",
              " ['H', 'J', 'M', 'S', 'P'],\n",
              " ['L', 'P', 'R', 'S', 'H', 'T', 'Z', 'M'],\n",
              " ['L', 'M', 'N', 'H', 'T', 'P'],\n",
              " ['R', 'Q', 'D', 'F'],\n",
              " ['HPLNCSD']]"
            ]
          },
          "metadata": {},
          "execution_count": 25
        }
      ]
    },
    {
      "cell_type": "code",
      "source": [
        "# Storing the elements of the splits list as strings and then appending the whole strings into a new list (edits)\n",
        "\n",
        "strings=''\n",
        "edits=[]\n",
        "for i in range(0,9):\n",
        "  for z in range(0, len(splits[i])):\n",
        "    strings+=splits[i][z]\n",
        "  edits.append(strings)\n",
        "  strings=''\n",
        "edits"
      ],
      "metadata": {
        "colab": {
          "base_uri": "https://localhost:8080/"
        },
        "id": "yr6eKIaNCZ9H",
        "outputId": "65e11f84-4941-4b91-a5f7-aa510857dfad"
      },
      "execution_count": 26,
      "outputs": [
        {
          "output_type": "execute_result",
          "data": {
            "text/plain": [
              "['TRGWQMFP',\n",
              " 'RFH',\n",
              " 'DSHGVRZP',\n",
              " 'GWFBPHQ',\n",
              " 'HJMSP',\n",
              " 'LPRSHTZM',\n",
              " 'LMNHTP',\n",
              " 'RQDF',\n",
              " 'HPLNCSD']"
            ]
          },
          "metadata": {},
          "execution_count": 26
        }
      ]
    },
    {
      "cell_type": "code",
      "source": [
        "# The edits list will be used for two parts of the challenge, so I am making a copy for part_1\n",
        "\n",
        "part_1 = edits.copy()\n",
        "part_1"
      ],
      "metadata": {
        "colab": {
          "base_uri": "https://localhost:8080/"
        },
        "id": "1iMgI9uRCiXH",
        "outputId": "62a1b68e-46b5-45c9-899f-d6f60e74691f"
      },
      "execution_count": 30,
      "outputs": [
        {
          "output_type": "execute_result",
          "data": {
            "text/plain": [
              "['TRGWQMFP',\n",
              " 'RFH',\n",
              " 'DSHGVRZP',\n",
              " 'GWFBPHQ',\n",
              " 'HJMSP',\n",
              " 'LPRSHTZM',\n",
              " 'LMNHTP',\n",
              " 'RQDF',\n",
              " 'HPLNCSD']"
            ]
          },
          "metadata": {},
          "execution_count": 30
        }
      ]
    },
    {
      "cell_type": "code",
      "source": [
        "# Creating a loop that applies the procedure (stored in numbers list) to the crates (stored in part_1)\n",
        "# Note - the crates are moved one by one which means that the crates need to added to new position in an inverse order\n",
        "\n",
        "for i in range(0, len(numbers)): # loop through the procedures in the numbers list\n",
        "  quantity=numbers[i][0] # procedure number that states how many crates need to be moved\n",
        "  start=numbers[i][1]-1 # procedure number that states from which position the crates need to be moved\n",
        "  end=numbers[i][2]-1 # procedure number that states to which position the crates need to be moved\n",
        "\n",
        "  add=part_1[start][0:quantity] # add - stores the crates that will be moved\n",
        "  part_1[end]=add[::-1]+part_1[end] # the crates are added to the appropriate position (end) in inverse order (add[::-1])\n",
        "  part_1[start]=part_1[start][quantity:] # the start position now has less crates - need to remove those crates\n",
        "\n",
        "# Viewing the new composition of the crates\n",
        "part_1"
      ],
      "metadata": {
        "colab": {
          "base_uri": "https://localhost:8080/"
        },
        "id": "JwTshno6CrfY",
        "outputId": "446d824c-a5dd-44a4-b899-ba1d913d29fb"
      },
      "execution_count": 31,
      "outputs": [
        {
          "output_type": "execute_result",
          "data": {
            "text/plain": [
              "['TMMQR',\n",
              " 'PRSH',\n",
              " 'GPCDZT',\n",
              " 'VF',\n",
              " 'Q',\n",
              " 'PLBHSHWFMRGSMNRGSPHP',\n",
              " 'FF',\n",
              " 'DPQDJHNTLWZLHPR',\n",
              " 'H']"
            ]
          },
          "metadata": {},
          "execution_count": 31
        }
      ]
    },
    {
      "cell_type": "code",
      "source": [
        "# The answer to Part 1 is\n",
        "\n",
        "answer = ''\n",
        "for i in range(0, len(part_1)):\n",
        "  answer+=part_1[i][0]\n",
        "print(answer)"
      ],
      "metadata": {
        "colab": {
          "base_uri": "https://localhost:8080/"
        },
        "id": "sSFjW58rmlhw",
        "outputId": "6cb23eb9-c632-42c8-caae-7c55eb631d13"
      },
      "execution_count": 32,
      "outputs": [
        {
          "output_type": "stream",
          "name": "stdout",
          "text": [
            "TPGVQPFDH\n"
          ]
        }
      ]
    },
    {
      "cell_type": "markdown",
      "source": [
        "Part 2"
      ],
      "metadata": {
        "id": "3q1-KTS2GyK2"
      }
    },
    {
      "cell_type": "markdown",
      "source": [
        "What crate ends up on top of each stack after the crates are moved simultaneously according to the procedure?"
      ],
      "metadata": {
        "id": "7EQGwh-xr5un"
      }
    },
    {
      "cell_type": "code",
      "source": [
        "# Copying the edits list for Part 2\n",
        "\n",
        "part_2=edits.copy()"
      ],
      "metadata": {
        "id": "q6g_1FOwHDto"
      },
      "execution_count": 34,
      "outputs": []
    },
    {
      "cell_type": "code",
      "source": [
        "# Creating a loop that applies the procedure (stored in numbers list) to the crates (stored in part_2)\n",
        "# Note - This time, several crates are moved at the same time, so there is no need for adding the crates in inverse order\n",
        "\n",
        "for i in range(0, len(numbers)):\n",
        "  quantity=numbers[i][0]\n",
        "  start=numbers[i][1]-1\n",
        "  end=numbers[i][2]-1\n",
        "\n",
        "  add=part_2[start][0:quantity]\n",
        "  part_2[end]=add+part_2[end] # the crates are now added to the appropriate position (end) in regular order (add vs add[::-1])\n",
        "  part_2[start]=part_2[start][quantity:]\n",
        "\n",
        "part_2"
      ],
      "metadata": {
        "colab": {
          "base_uri": "https://localhost:8080/"
        },
        "id": "soUDYdaACu5H",
        "outputId": "004f4c9f-89b9-4051-a18f-e0f5b4b0d220"
      },
      "execution_count": 35,
      "outputs": [
        {
          "output_type": "execute_result",
          "data": {
            "text/plain": [
              "['DPJTV',\n",
              " 'MNHM',\n",
              " 'RQFPTN',\n",
              " 'DQ',\n",
              " 'F',\n",
              " 'RHPRFRSQDPPMGLLSWWZB',\n",
              " 'HP',\n",
              " 'HSTMSRGPHGFHCLZ',\n",
              " 'H']"
            ]
          },
          "metadata": {},
          "execution_count": 35
        }
      ]
    },
    {
      "cell_type": "code",
      "source": [
        "# The answer to Part 2 is\n",
        "\n",
        "answer = ''\n",
        "for i in range(0, len(part_2)):\n",
        "  answer+=part_2[i][0]\n",
        "print(answer)"
      ],
      "metadata": {
        "id": "M_Y2oPWlHLaU",
        "colab": {
          "base_uri": "https://localhost:8080/"
        },
        "outputId": "01d1efbd-525e-4225-b1c4-090a306daec3"
      },
      "execution_count": 36,
      "outputs": [
        {
          "output_type": "stream",
          "name": "stdout",
          "text": [
            "DMRDFRHHH\n"
          ]
        }
      ]
    }
  ]
}
