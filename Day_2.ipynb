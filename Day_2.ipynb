{
  "cells": [
    {
      "cell_type": "markdown",
      "source": [
        "--- Day 2: Rock Paper Scissors ---"
      ],
      "metadata": {
        "id": "VxgNGzyOqKLL"
      }
    },
    {
      "cell_type": "markdown",
      "source": [
        "Go to Advent of Code (https://adventofcode.com/) for the full description of the challenge solved here."
      ],
      "metadata": {
        "id": "EWOKQfna0dzc"
      }
    },
    {
      "cell_type": "markdown",
      "source": [
        "Summary of challenge: The Day 2 input contains a series of letters which represent whether a player in the Rock Paper Scissors tournament chose to play with rock, paper, or scissors. Each line of text correspond to one round. In part 1, we need to calculate our total score based on the proposed meaning of the letters (see below). In part 2, we need to calculate our total score based on an alternative proposed meaning of the letters (see below)."
      ],
      "metadata": {
        "id": "5qyNiShk0kHw"
      }
    },
    {
      "cell_type": "code",
      "execution_count": 4,
      "metadata": {
        "id": "2j9U6yUYlRaE"
      },
      "outputs": [],
      "source": [
        "import pandas as pd"
      ]
    },
    {
      "cell_type": "markdown",
      "source": [
        "Part 1"
      ],
      "metadata": {
        "id": "tul9xm9BqZU7"
      }
    },
    {
      "cell_type": "markdown",
      "source": [
        "What is the total score based on the proposed meaning of the letters?"
      ],
      "metadata": {
        "id": "Tlt8QWgX3Pkp"
      }
    },
    {
      "cell_type": "code",
      "execution_count": 1,
      "metadata": {
        "id": "wAfH2lSVlatu",
        "colab": {
          "base_uri": "https://localhost:8080/",
          "height": 123
        },
        "outputId": "da2dd905-6780-4313-c2b1-442d24028a4f"
      },
      "outputs": [
        {
          "output_type": "execute_result",
          "data": {
            "text/plain": [
              "'B Y\\nA X\\nC Z\\nA Z\\nB Y\\nB Y\\nA X\\nC Z\\nB Y\\nB Y\\nC Z\\nC X\\nB Y\\nC Z\\nB Y\\nC Z\\nA Z\\nA Z\\nA X\\nB Y\\nA X\\nC Z\\nC Y\\nC Z\\nC Z\\nC Z\\nA X\\nA X\\nB Y\\nA Z\\nB Z\\nB Y\\nA X\\nA X\\nC Z\\nB Y\\nB Y\\nB Z\\nA Z\\nA X\\nC Z\\nB Z\\nA Z\\nC Z\\nC Z\\nC Z\\nC Z\\nC Z\\nC Z\\nB X\\nA Z\\nA Z\\nC Z\\nC Z\\nC Z\\nA Y\\nC Z\\nB Y\\nC Z\\nC Z\\nC Z\\nB Y\\nB Z\\nA X\\nA X\\nC Z\\nB Y\\nB Y\\nB Z\\nA X\\nA X\\nC Z\\nB Y\\nC Z\\nA X\\nC Z\\nA X\\nC X\\nA Y\\nA Y\\nB Y\\nA Y\\nC Z\\nB Y\\nC Z\\nC Z\\nA X\\nC Z\\nA Z\\nC Z\\nA X\\nC Z\\nB Y\\nB Y\\nC Z\\nB Z\\nC Y\\nC Z\\nB Y\\nC Z\\nC Z\\nB X\\nA X\\nC Z\\nC Z\\nB Y\\nC Z\\nB Y\\nA Z\\nB Y\\nB Z\\nA Z\\nC Z\\nC Z\\nC Z\\nA Z\\nC Z\\nA X\\nA X\\nA Z\\nC Z\\nA X\\nA Z\\nC Z\\nA Z\\nA Y\\nB Y\\nA Z\\nB X\\nA X\\nC Z\\nC Z\\nB Y\\nC Y\\nB Y\\nB Z\\nB Y\\nB Y\\nC Z\\nC Z\\nC Z\\nC Z\\nA Y\\nC Z\\nB Z\\nA X\\nB Y\\nA Y\\nC Z\\nC Z\\nC Z\\nC Z\\nC Z\\nB Y\\nC Z\\nB Y\\nC Z\\nB Y\\nC Z\\nC X\\nA Y\\nA X\\nC Y\\nB Y\\nA Z\\nC Z\\nC Z\\nB Y\\nB Y\\nA X\\nB Y\\nA Y\\nA X\\nA X\\nB Y\\nA X\\nA X\\nB Y\\nC Z\\nC Z\\nB Y\\nC Z\\nA Z\\nC Z\\nB Z\\nC Z\\nA Y\\nC Z\\nB Z\\nC Z\\nA Y\\nA Y\\nC Z\\nA X\\nB Y\\nC Z\\nA X\\nB Y\\nB Y\\nA X\\nA X\\nC Z\\nB Y\\nC Z\\nB Z\\nC Z\\nA X\\nC Z\\nB Y\\nB Y\\nA X\\nB Z\\nC Z\\nB Z\\nB Y\\nB Y\\nA Y\\nB Z\\nA Z\\nC Z\\nC Z\\nA X\\nA X\\nA X\\nC Z\\nB Y\\nA X\\nA Y\\nC Z\\nA X\\nB Y\\nA Y\\nA Y\\nC Z\\nC Z\\nC Z\\nA Z\\nB Z\\nC Z\\nB Y\\nC Z\\nC Z\\nA Y\\nA X\\nC Z\\nB Y\\nC Z\\nC Z\\nB Y\\nB Y\\nA Y\\nC Z\\nB Y\\nB Y\\nA Z\\nC Z\\nC Z\\nC Z\\nC Z\\nB Z\\nC Z\\nB Y\\nA X\\nC Z\\nB Z\\nA Z\\nA X\\nC Z\\nA X\\nA X\\nB Y\\nC Z\\nC Z\\nA X\\nC Z\\nA Y\\nC Z\\nC Z\\nA X\\nB Y\\nC Z\\nB Z\\nB Y\\nC Z\\nA Z\\nC Z\\nC Z\\nA Y\\nA Z\\nC Z\\nC Z\\nB Z\\nC Z\\nB Y\\nC Z\\nC Z\\nA X\\nC Z\\nC Z\\nB Z\\nC Z\\nB Z\\nA X\\nB Y\\nC Z\\nC Z\\nC Z\\nC Z\\nC Z\\nA Z\\nA Y\\nA X\\nA X\\nC Z\\nB X\\nA Z\\nA X\\nC Z\\nB Z\\nC Z\\nB Y\\nA Z\\nC Z\\nB Y\\nC Z\\nC Y\\nA Y\\nC Z\\nB Y\\nB Y\\nC Z\\nA X\\nC Z\\nA X\\nC X\\nA X\\nB X\\nA X\\nC Z\\nC Z\\nC Z\\nB Y\\nB Y\\nC Z\\nB Z\\nC Z\\nB Y\\nA X\\nC X\\nC Z\\nB Y\\nA Z\\nA X\\nB Y\\nB Y\\nC Z\\nC Z\\nC Z\\nB Y\\nA X\\nA X\\nB Y\\nA X\\nA Y\\nC Z\\nB Y\\nA X\\nA Y\\nB Y\\nA X\\nA X\\nC Z\\nC Z\\nC Z\\nC Z\\nC Z\\nA X\\nA X\\nB Z\\nA Y\\nC Z\\nA X\\nC Z\\nB Y\\nC Z\\nA Z\\nC Z\\nC Z\\nA Y\\nB Z\\nC Z\\nA X\\nB Y\\nB Y\\nC Z\\nA Y\\nC Z\\nC Z\\nC Z\\nC Z\\nC Z\\nB Y\\nA X\\nA X\\nB Y\\nC Z\\nC Z\\nA Z\\nC Z\\nC Z\\nC Z\\nA Y\\nB Z\\nB Y\\nB Y\\nC Z\\nA X\\nA Y\\nC Z\\nA X\\nA Y\\nA X\\nC Z\\nA Y\\nB Z\\nB Y\\nB Z\\nC Z\\nC Z\\nC Z\\nB Z\\nB Z\\nC Z\\nC Z\\nC Z\\nC Z\\nB Y\\nB Z\\nA Y\\nA Y\\nB Z\\nB X\\nA Z\\nA X\\nC Z\\nA X\\nA Y\\nA X\\nA X\\nA X\\nC Z\\nC Z\\nC Z\\nA X\\nC Z\\nC Z\\nB Y\\nA X\\nC Z\\nA X\\nA Y\\nA X\\nC Z\\nA Y\\nC Z\\nB Y\\nA X\\nA Y\\nA Z\\nC Z\\nB Y\\nB Y\\nB Z\\nA X\\nA X\\nB Y\\nC Z\\nA X\\nB Y\\nC Z\\nC Z\\nC Z\\nA X\\nA Y\\nA Z\\nC Z\\nB Y\\nC Z\\nA X\\nA Z\\nA Z\\nB Y\\nB Y\\nA X\\nB Y\\nC Z\\nB Z\\nC Z\\nB Y\\nA Z\\nC Z\\nA Y\\nA X\\nA Z\\nB Y\\nA X\\nA Z\\nC Z\\nA Z\\nC Z\\nC Z\\nA X\\nC Z\\nA X\\nC Z\\nA X\\nC Z\\nB Y\\nC Z\\nA X\\nB Y\\nA Y\\nC X\\nA Y\\nA Z\\nA X\\nA Z\\nB Y\\nA X\\nC Z\\nA Y\\nB Y\\nB Y\\nC Z\\nB Y\\nC Z\\nB Y\\nB Z\\nC Z\\nC Z\\nB Y\\nA X\\nC Z\\nB Y\\nC Z\\nC Z\\nC Z\\nC Z\\nC Z\\nA X\\nA X\\nA Z\\nA Z\\nC Z\\nA Y\\nB Y\\nA Y\\nA Y\\nB Y\\nC X\\nA Y\\nC Z\\nC Z\\nC Z\\nA Y\\nA Y\\nA Y\\nC Z\\nA X\\nB Y\\nA X\\nB X\\nA Y\\nA Y\\nA X\\nB Z\\nB Y\\nC Z\\nB Y\\nC Z\\nB Y\\nC Z\\nA Z\\nC Z\\nA X\\nB Y\\nA X\\nC Z\\nB Z\\nC Z\\nB Y\\nC Z\\nC Z\\nC Z\\nA X\\nA X\\nB Y\\nB Z\\nA Z\\nA X\\nA X\\nC Z\\nA X\\nA X\\nC X\\nC X\\nC Z\\nB Y\\nB Z\\nC Z\\nA X\\nB Y\\nB Y\\nA Z\\nC Z\\nC Y\\nA X\\nB Y\\nB Y\\nC Y\\nA X\\nA X\\nA X\\nA X\\nA Z\\nB Y\\nA Z\\nC Z\\nC Z\\nB Y\\nB Z\\nB Y\\nA Y\\nC Z\\nC Z\\nB Y\\nA Y\\nC Z\\nA X\\nC Z\\nC Z\\nA X\\nB Y\\nC Z\\nC Z\\nA X\\nA Z\\nC Z\\nA Z\\nC Z\\nB Z\\nA X\\nA Y\\nB Y\\nA X\\nA Y\\nA Z\\nA Y\\nA X\\nA Y\\nC Z\\nA X\\nC Z\\nC Z\\nA X\\nA Y\\nA X\\nC Z\\nA Z\\nC Z\\nC Z\\nC Z\\nA X\\nB Y\\nA X\\nC Z\\nC Z\\nC Z\\nC Z\\nA X\\nC Z\\nC Z\\nB Y\\nA Y\\nA X\\nA X\\nC Z\\nC Z\\nA X\\nC Z\\nC Z\\nB Y\\nC Z\\nA X\\nC Z\\nC Z\\nA Y\\nA X\\nC Z\\nA Y\\nC Z\\nA X\\nB Z\\nB Y\\nA X\\nB Y\\nC Z\\nA X\\nC Z\\nC Z\\nA X\\nC Z\\nB X\\nC Z\\nC Z\\nA Y\\nC Z\\nA Y\\nB X\\nC Z\\nB Y\\nC Z\\nA Z\\nC Z\\nA X\\nC Z\\nC Z\\nC Z\\nC Z\\nA X\\nB X\\nC Z\\nC Z\\nB Y\\nA Z\\nA Y\\nC Z\\nA X\\nA Z\\nA X\\nA X\\nB Y\\nA X\\nC Z\\nA X\\nA X\\nB Y\\nA X\\nB Z\\nC Z\\nA Z\\nA Y\\nA X\\nB Y\\nA X\\nA Z\\nA X\\nB Y\\nB Z\\nB Y\\nC Z\\nB Y\\nA X\\nA Y\\nC Z\\nA X\\nB Z\\nC Z\\nC Z\\nA X\\nA X\\nA Y\\nC Z\\nC Z\\nC Z\\nA Y\\nB Y\\nA X\\nC Z\\nB Y\\nB Y\\nA X\\nA X\\nB Y\\nC Z\\nB Y\\nA X\\nA Z\\nC Z\\nC Z\\nC Z\\nC Z\\nB Z\\nC Z\\nA Z\\nC Z\\nA Y\\nB Y\\nA Y\\nC X\\nC Z\\nC Z\\nA Y\\nA X\\nB Y\\nC Z\\nA X\\nC Z\\nA X\\nA Y\\nA Y\\nB Z\\nC Y\\nB Y\\nC Z\\nB Y\\nA X\\nC Z\\nC Z\\nC Z\\nC Z\\nB Y\\nA X\\nB Y\\nA Y\\nC Z\\nB Y\\nA Z\\nB Z\\nC Z\\nC Z\\nC Z\\nC Z\\nA Y\\nA X\\nC Z\\nA X\\nC Z\\nC Z\\nC Z\\nC Z\\nC Z\\nB X\\nC Z\\nB Z\\nA X\\nA X\\nA Y\\nA X\\nA Z\\nB Y\\nA Y\\nC Z\\nC Z\\nC Z\\nC Z\\nC X\\nA Y\\nC Z\\nC Z\\nB Y\\nA X\\nC Y\\nB Y\\nC Z\\nC Z\\nC Z\\nB X\\nA X\\nC Z\\nA X\\nC Z\\nC Z\\nC Z\\nC Y\\nA X\\nC Z\\nA Z\\nC Z\\nC Z\\nB Y\\nA X\\nA X\\nA Z\\nA Y\\nC Z\\nC Z\\nC Z\\nC Z\\nC Z\\nC Z\\nC Z\\nB Y\\nA Y\\nA X\\nC Z\\nC Z\\nA X\\nA X\\nC Z\\nC Z\\nB Y\\nA X\\nA X\\nC Z\\nC Z\\nC Z\\nB Y\\nA Y\\nB Z\\nA Y\\nC Z\\nA X\\nC Z\\nC Z\\nB Y\\nA Y\\nA X\\nB Z\\nA X\\nC Z\\nC Z\\nC Z\\nC Z\\nB Z\\nC Z\\nB Y\\nC Z\\nC Z\\nC Z\\nB Y\\nC Z\\nC Y\\nB Z\\nB Z\\nA Y\\nC Z\\nC Z\\nB Z\\nB Y\\nC Z\\nB Y\\nC Z\\nC Z\\nB Y\\nC Z\\nC Z\\nC Z\\nA Y\\nA X\\nB Y\\nC Z\\nC Z\\nC Z\\nB Y\\nC Z\\nA Y\\nA X\\nA Z\\nA Y\\nC Z\\nC Z\\nC Z\\nB Z\\nC Z\\nB Y\\nC Z\\nB Y\\nA Y\\nC Z\\nC Z\\nA Z\\nB Y\\nA X\\nA X\\nB Z\\nA X\\nC Z\\nC Z\\nC Z\\nA X\\nB Z\\nC Z\\nA X\\nC Z\\nC Z\\nC Z\\nC Z\\nC Z\\nC Z\\nA Y\\nC Z\\nA Z\\nA X\\nB Y\\nC Z\\nC Z\\nA X\\nA Y\\nC Z\\nB Y\\nA X\\nC Z\\nC Z\\nA X\\nA Y\\nA X\\nB Z\\nC Z\\nA X\\nC Z\\nA X\\nA Z\\nB Y\\nC Z\\nC Z\\nC X\\nB Z\\nB X\\nB Y\\nA Z\\nC Z\\nA X\\nB Z\\nA X\\nB Y\\nC Z\\nB Z\\nA Z\\nA Z\\nC Z\\nC Z\\nC Z\\nC Z\\nB Y\\nB Y\\nA Y\\nA X\\nA X\\nB Y\\nA Z\\nA X\\nC Z\\nB Z\\nA X\\nA X\\nB Y\\nA X\\nC Z\\nA X\\nC Z\\nC Z\\nC Z\\nC Z\\nA X\\nA X\\nA Z\\nC Z\\nA X\\nB Z\\nC Z\\nB Y\\nC Z\\nC Z\\nA Y\\nC Z\\nB Z\\nC Z\\nC Z\\nB Y\\nC Z\\nC Z\\nB Y\\nA X\\nA X\\nC Z\\nC Z\\nC Z\\nA X\\nC Z\\nC Z\\nB Y\\nC Z\\nB Z\\nC Z\\nA X\\nC Z\\nA X\\nC Z\\nA Y\\nC Z\\nC Z\\nA X\\nB Y\\nC Z\\nC Z\\nC Z\\nA X\\nB Y\\nC Z\\nA X\\nB Z\\nA X\\nB Z\\nC Z\\nA X\\nC Z\\nB Y\\nA Z\\nB X\\nA Y\\nC Z\\nC Z\\nB X\\nA Y\\nA X\\nC Z\\nA X\\nC Z\\nB X\\nA X\\nB Y\\nA Z\\nA X\\nC Z\\nA Y\\nC Z\\nA X\\nC Z\\nC Z\\nC Z\\nC Z\\nA Z\\nC Z\\nC Z\\nB Y\\nA X\\nB Y\\nC Z\\nB Y\\nA X\\nC Z\\nC Z\\nA X\\nA X\\nB Y\\nC Z\\nB Y\\nC Z\\nC Z\\nA Z\\nC Z\\nC Z\\nC Z\\nA Y\\nA Z\\nC Z\\nC Z\\nC Z\\nC Z\\nA X\\nC Z\\nA X\\nA X\\nB Z\\nC Z\\nC Z\\nC Z\\nB Z\\nA X\\nC Z\\nA Y\\nB Y\\nC Z\\nA Y\\nC Z\\nC Z\\nA X\\nA X\\nB Y\\nA Z\\nA Y\\nA X\\nB X\\nB Y\\nB Z\\nB Y\\nA X\\nC Z\\nC Z\\nB Z\\nB Z\\nB Z\\nC Z\\nC Z\\nB Y\\nB Y\\nB Y\\nC Z\\nB Y\\nA X\\nA Z\\nB Z\\nA X\\nB Z\\nA X\\nC Z\\nB Y\\nB X\\nA X\\nC Z\\nA X\\nC Z\\nC Z\\nC Z\\nB X\\nB Y\\nA Y\\nA X\\nA X\\nA Y\\nC Z\\nC Z\\nB Y\\nC Z\\nB Z\\nA X\\nC Z\\nC Z\\nC Z\\nA X\\nA Y\\nC Z\\nB Z\\nA X\\nA Y\\nA Z\\nC Z\\nB Y\\nB Z\\nA X\\nC Z\\nA X\\nA X\\nA Z\\nC Z\\nC Z\\nB Y\\nA X\\nC Z\\nA Y\\nA Z\\nA X\\nA X\\nC Z\\nA Y\\nB Y\\nC Z\\nA Z\\nC Z\\nB Y\\nA X\\nA X\\nA X\\nC Y\\nC Z\\nA Y\\nB Z\\nC X\\nA X\\nA X\\nA X\\nA X\\nB Z\\nB Y\\nC Z\\nB Y\\nA X\\nB Y\\nC Z\\nB Y\\nC Z\\nC Z\\nA X\\nB Y\\nA Y\\nB X\\nA X\\nB X\\nC Z\\nA Z\\nA X\\nB Y\\nB Y\\nC Z\\nA X\\nA X\\nB Y\\nC Z\\nA X\\nC Z\\nA X\\nA Z\\nA Z\\nC Z\\nA Z\\nC Z\\nC Z\\nC Z\\nC Z\\nA Z\\nC Y\\nC Z\\nC Z\\nA Z\\nA Y\\nA X\\nB Z\\nC Z\\nC Z\\nC Z\\nA Y\\nC Z\\nC Z\\nC Z\\nC Z\\nA Z\\nB Z\\nA X\\nC Z\\nC Z\\nA Y\\nB Y\\nA X\\nC Z\\nA X\\nB Y\\nA X\\nA X\\nA Z\\nB Y\\nC Z\\nB X\\nC X\\nA X\\nA X\\nA X\\nC Z\\nC Z\\nA X\\nB Y\\nA Z\\nB Y\\nA X\\nA Y\\nC Z\\nB Y\\nC Z\\nB Y\\nA Y\\nB Y\\nA Y\\nA X\\nC Z\\nC Z\\nA X\\nB Y\\nA X\\nC Z\\nC Z\\nA Y\\nB Y\\nB Y\\nA Z\\nB Y\\nC Z\\nC Z\\nC Z\\nB Y\\nA X\\nB Y\\nA X\\nC Z\\nC Z\\nC Z\\nA X\\nC Z\\nC Z\\nB Y\\nC Z\\nB Z\\nB Y\\nA X\\nB Y\\nA Z\\nB Y\\nA X\\nB X\\nC Z\\nA Z\\nB Y\\nC Z\\nB Y\\nC Z\\nC Z\\nC Z\\nC Z\\nB X\\nA X\\nB Y\\nB Y\\nA X\\nC Z\\nA X\\nB Z\\nB Z\\nB Z\\nA X\\nC X\\nA X\\nA X\\nA X\\nB Y\\nB Y\\nC Z\\nC Z\\nA X\\nC Z\\nB Y\\nA X\\nC Z\\nA X\\nC Z\\nA X\\nB Y\\nC Z\\nC Z\\nA Y\\nB Y\\nC Z\\nA Z\\nC Z\\nA X\\nC Z\\nC Z\\nA Z\\nA Y\\nC Z\\nA X\\nB Y\\nB Z\\nC Z\\nA Y\\nA Y\\nC Z\\nC Z\\nB Z\\nA Z\\nC Z\\nA X\\nC Z\\nA X\\nC Z\\nC Z\\nC Z\\nB Y\\nC Y\\nB Y\\nA Y\\nA X\\nC Z\\nB Y\\nC Z\\nC Z\\nC Z\\nA Z\\nC X\\nA Y\\nC Z\\nA Y\\nA Y\\nC Z\\nA Z\\nC Z\\nC Z\\nC Z\\nC Z\\nC Z\\nB Y\\nA Y\\nB Y\\nA Z\\nB Y\\nA X\\nA X\\nB Y\\nA Z\\nB Y\\nC Z\\nB Z\\nA X\\nC Z\\nA Y\\nA Y\\nC Z\\nA X\\nA X\\nC Z\\nC Z\\nC Z\\nB Y\\nA X\\nC Z\\nB Y\\nC Z\\nB X\\nC Z\\nA Y\\nC Z\\nA X\\nC Z\\nA X\\nC Z\\nC Z\\nB Y\\nC Z\\nB Z\\nC Z\\nA Y\\nA X\\nA Z\\nC Z\\nC Z\\nC Z\\nC Z\\nC Z\\nA Z\\nB Y\\nB Y\\nB Y\\nC Z\\nC Z\\nC X\\nC Z\\nA X\\nB Y\\nC Z\\nC Z\\nA X\\nB Y\\nC Z\\nC Z\\nC Z\\nC Z\\nC Z\\nC Z\\nA X\\nB Z\\nC Z\\nC Z\\nC Z\\nA X\\nB Z\\nC Z\\nA X\\nC Z\\nA Y\\nB Y\\nC Z\\nB Z\\nB Y\\nC Z\\nB X\\nC Z\\nB Y\\nB Y\\nB Y\\nA X\\nA X\\nC Z\\nA Z\\nC Z\\nB Y\\nB Z\\nC Z\\nC Z\\nB Z\\nB Y\\nA Z\\nB Y\\nA X\\nA X\\nC Z\\nC Z\\nC Z\\nB Y\\nA X\\nC Z\\nC Z\\nA Y\\nC Z\\nB Y\\nC Z\\nC Z\\nC Z\\nC Z\\nC Z\\nC Z\\nB Y\\nB Y\\nC Z\\nA Z\\nA X\\nB Y\\nC Z\\nB Y\\nA X\\nA Z\\nC Z\\nB Y\\nA Z\\nC Z\\nB Y\\nA Z\\nA X\\nB Z\\nA X\\nC Z\\nB Y\\nC Z\\nA Y\\nC Y\\nA X\\nA Y\\nC Z\\nC Z\\nB Y\\nC Z\\nB Y\\nA Z\\nC Z\\nC Z\\nA X\\nC Z\\nB Z\\nA Y\\nB Z\\nA Z\\nA X\\nB Y\\nA Z\\nA Y\\nC Z\\nC Z\\nB Y\\nA X\\nB Y\\nC Z\\nA X\\nB Y\\nB Y\\nC Z\\nA Z\\nA X\\nC Z\\nB X\\nC Z\\nC Z\\nC Z\\nC Y\\nA Z\\nA X\\nC Z\\nC Z\\nA X\\nB Y\\nC Z\\nB Y\\nC Z\\nB Z\\nA Z\\nC Z\\nB Y\\nA X\\nC Z\\nC Z\\nB Z\\nC Z\\nA Z\\nB Y\\nB Z\\nC Z\\nC Z\\nA X\\nC Y\\nB Y\\nC Z\\nA X\\nC Z\\nC Z\\nB Y\\nB Z\\nC Z\\nC Z\\nA Y\\nA X\\nC Z\\nA X\\nB Z\\nB Y\\nA Z\\nB Z\\nC X\\nA X\\nC Z\\nC Z\\nC Z\\nA X\\nB Z\\nC Z\\nC Z\\nC Z\\nB Y\\nC Z\\nA X\\nC Z\\nC Z\\nB Y\\nC Z\\nA X\\nC Z\\nC Z\\nC Z\\nA X\\nA X\\nB Y\\nC Z\\nC Z\\nB Y\\nB Z\\nB Y\\nC Z\\nA X\\nA X\\nB Y\\nA X\\nB Y\\nC Z\\nA X\\nC Z\\nC Z\\nB Z\\nA X\\nB Y\\nC Z\\nC Z\\nC Z\\nC Z\\nA Z\\nC Z\\nA X\\nB Y\\nA Y\\nA Y\\nC Z\\nC Z\\nC Z\\nB Y\\nA Z\\nA X\\nB Y\\nC Z\\nA X\\nC Z\\nA X\\nC Z\\nA X\\nC Z\\nC Z\\nB Y\\nA Y\\nC Z\\nB Y\\nB Y\\nA X\\nC Z\\nA Y\\nA Z\\nC Z\\nC Z\\nC Z\\nA Y\\nB Y\\nC Z\\nC Z\\nB Z\\nC Z\\nB Z\\nB Y\\nA X\\nA X\\nC Z\\nB Z\\nC Z\\nC Z\\nA X\\nA X\\nB Z\\nA X\\nC Z\\nC Z\\nB Y\\nA X\\nC Z\\nA X\\nB Y\\nC X\\nA Z\\nB Y\\nC Z\\nA X\\nB Y\\nC Z\\nA X\\nB Y\\nC Z\\nB X\\nC Z\\nA Y\\nC Z\\nA X\\nC X\\nB Z\\nC Z\\nB Y\\nB Y\\nB Y\\nA Y\\nA X\\nC Z\\nC Z\\nA Y\\nB Y\\nA X\\nC Z\\nA X\\nC Z\\nC Z\\nA X\\nC Z\\nA X\\nC Z\\nB Y\\nC Z\\nA X\\nA Z\\nC X\\nB Y\\nC Z\\nC Z\\nB Z\\nA X\\nA X\\nB Y\\nC Z\\nA Y\\nB Y\\nC Z\\nA X\\nA Z\\nA X\\nB Y\\nA X\\nB Y\\nC Z\\nC Z\\nB Y\\nA X\\nB Y\\nB Z\\nC Z\\nB Z\\nA X\\nC Z\\nC Z\\nA Y\\nC Z\\nA X\\nC Z\\nB Y\\nC Z\\nC Z\\nC Y\\nC Z\\nC Z\\nA Y\\nC Z\\nC Z\\nA Z\\nA X\\nB Z\\nC Z\\nA Y\\nA X\\nB Z\\nC Z\\nC Z\\nB Y\\nB Z\\nA X\\nA X\\nC Z\\nB Y\\nA Y\\nC Z\\nA Z\\nA X\\nC Z\\nA X\\nC Z\\nC Z\\nA Z\\nC Z\\nC Z\\nC Z\\nA Y\\nB Y\\nA X\\nB Z\\nB Y\\nC Z\\nC Z\\nC Z\\nC Z\\nC Z\\nC Z\\nC Z\\nA Z\\nB Z\\nB X\\nA X\\nA Z\\nA X\\nA X\\nB Y\\nC Z\\nC Z\\nA X\\nB Y\\nA Y\\nC Z\\nB Z\\nC Z\\nA X\\nB Y\\nC Z\\nB Y\\nA Z\\nC Z\\nA Y\\nC Z\\nA X\\nC Z\\nA Z\\nB Y\\nA Y\\nA X\\nA X\\nA Z\\nC Z\\nC Z\\nC Y\\nC Z\\nA Y\\nA X\\nB Y\\nA Z\\nB Z\\nB Z\\nC Z\\nC Z\\nC Z\\nC Z\\nA X\\nA Y\\nB Y\\nC Z\\nB Y\\nC Z\\nA X\\nB Y\\nC Z\\nC Z\\nA Z\\nA X\\nB Y\\nC Z\\nA Y\\nC Z\\nC Z\\nC Z\\nA X\\nB Y\\nA X\\nB Y\\nC Z\\nC Z\\nB Y\\nC Z\\nA X\\nA X\\nC Z\\nB Y\\nB Z\\nA X\\nA X\\nA X\\nC Z\\nC Z\\nB Y\\nA X\\nC Z\\nA X\\nA Z\\nC Z\\nC Z\\nC Z\\nC Z\\nA Z\\nA X\\nB X\\nB Z\\nA Y\\nC Z\\nC Y\\nB Y\\nC Z\\nA Y\\nA X\\nB Z\\nB Y\\nC Z\\nB Y\\nC Z\\nA X\\nA Z\\nA X\\nC Z\\nB Y\\nB Y\\nB Y\\nA Z\\nC Z\\nC Z\\nB Y\\nC Z\\nB Y\\nA X\\nB Y\\nA X\\nB Y\\nC Z\\nC Z\\nB Y\\nA X\\nA Y\\nB Z\\nC Z\\nC Z\\nA X\\nB Y\\nA X\\nA X\\nA Y\\nB X\\nA X\\nA X\\nC Z\\nB Z\\nA X\\nC Z\\nA Y\\nA Z\\nC Z\\nA Z\\nA X\\nB Y\\nA X\\nC X\\nC Z\\nB Y\\nC Z\\nA X\\nA X\\nC Z\\nA X\\nB Y\\nA X\\nC Z\\nB Z\\nC Z\\nA X\\nC X\\nC Z\\nC Z\\nA X\\nC Z\\nA Y\\nC Z\\nA X\\nB Y\\nB Y\\nB Y\\nB Y\\nB Y\\nB Y\\nB Y\\nB Y\\nA Y\\nA Z\\nB Y\\nC Z\\nC Z\\nB Y\\nA Z\\nA X\\nA Y\\nA X\\nC Z\\nA Y\\nA Z\\nA Y\\nB Y\\nC Z\\nC Z\\nA Y\\nC Z\\nA X\\nB Y\\nC Z\\nA X\\nC Z\\nA X\\nB Y\\nC Z\\nC Z\\nA Z\\nA X\\nC Z\\nB Y\\nA Z\\nC Z\\nA X\\nC Z\\nB Y\\nB Y\\nC Z\\nC Z\\nC Z\\nC Z\\nB Z\\nC Z\\nC Z\\nC Z\\nC Z\\nC Z\\nB Y\\nB Y\\nA X\\nC Z\\nC Z\\nA Z\\nC Z\\nA X\\nC Z\\nC Z\\nA X\\nB Y\\nA X\\nC Z\\nB Y\\nB Y\\nA Y\\nA Y\\nA X\\nA Y\\nA Y\\nC Z\\nC Z\\nA Y\\nC Z\\nA Y\\nB Y\\nC Z\\nC Z\\nC Z\\nB Y\\nB Y\\nB Y\\nA X\\nC Z\\nB Y\\nC Z\\nC Z\\nC Z\\nC Z\\nA X\\nB Y\\nA X\\nC Z\\nA X\\nC Y\\nA Y\\nB Y\\nC Z\\nC Z\\nC Z\\nC Z\\nB Y\\nC Z\\nC Z\\nB Y\\nC Z\\nA X\\nA X\\nB Y\\nB X\\nC Z\\nB Y\\nA X\\nB Z\\nA Z\\nC Z\\nC Z\\nC Z\\nC Z\\nB Y\\nA Z\\nC Z\\nC Z\\nC Z\\nC Z\\nA X\\nA X\\nB Y\\nA Z\\nC Z\\nC Z\\nC Z\\nC Z\\nA Z\\nB Y\\nA X\\nB Y\\nC Z\\nC Z\\nB Z\\nC Z\\nA Y\\nC Z\\nA Y\\nB Y\\nC Z\\nA X\\nC Z\\nA X\\nB Z\\nB Y\\nB Y\\nA X\\nB X\\nA X\\nC Z\\nB Y\\nA X\\nA Z\\nC Z\\nC Z\\nA Z\\nC Z\\nC Z\\nB Y\\nC Y\\nC Z\\nA Z\\nA Z\\nC Z\\nB X\\nC Z\\nC Z\\nB Y\\nC Z\\nB Y\\nB Y\\nA X\\nA Y\\nB Y\\nA X\\nB Z\\nC Z\\nA Z\\nA X\\nA X\\nA Z\\nA Z\\nB Z\\nA X\\nB Y\\nC Z\\nB Y\\nA X\\nC Z\\nB Z\\nA Y\\nB Z\\nC Z\\nA X\\nB Z\\nA X\\nA Y\\nC Z\\nC Z\\nC Z\\nC Z\\nC Z\\nA Y\\nA Y\\nA X\\nB Y\\nC Z\\nA X\\nB Y\\nA X\\nB Y\\nC Z\\nA Z\\nC Z\\nC Z\\nC Z\\nC Z\\nC Z\\nB Y\\nB Z\\nC Z\\nA X\\nA Z\\nA X\\nA X\\nC Z\\nC Z\\nC Z\\nC Z\\nB Y\\nC Z\\nA X\\nC Z\\nC Z\\nC Z\\nC Z\\nC Z\\nB Y\\nA Z\\nA X\\nA Z\\nC Z\\nC Z\\nC Z\\nC Z\\nB X\\nC Z\\nC Z\\nA X\\nC Z\\nA Z\\nB Z\\nB Y\\nB Z\\nA Y\\nB Y\\nB Y\\nC Z\\nA Y\\nA Y\\nA Y\\nC Z\\nC Z\\nB Z\\nA X\\nC Z\\nA X\\nA X\\nA X\\nC Z\\nC Z\\nA Z\\nA X\\nA Y\\nC Z\\nC Z\\nA X\\nB Z\\nC Z\\nA X\\nC Z\\nA Z\\nA X\\nC Z\\nC Z\\nA X\\nA Z\\nB Y\\nA X\\nB Y\\nC Z\\nC Z\\nA X\\nB Z\\nC Z\\nB Y\\nC Z\\nA Z\\nC Z\\nA X\\nB Y\\nC Z\\nC Z\\nA Y\\nC X\\nA Y\\nA Y\\nC Z\\nC Z\\nA X\\nA Z\\nB Y\\nC Z\\nB Y\\nC Z\\nA Y\\nC Z\\nC Z\\nC Z\\nA Z\\nC Z\\nC Z\\nB Y\\nA Y\\nC Z\\nC Z\\nB Y\\nA X\\nC Z\\nB Y\\nC Z\\nB Y\\nC Z\\nB Y\\nA X\\nA Y\\nB Y\\nC Z\\nB Z\\nA Y\\nC Z\\nA Y\\nA Z\\nC Z\\nB Y\\nC Z\\nC Z\\nB Y\\nA Y\\nA Y\\nC Z\\nC Z\\nA Y\\nC Z\\nC X\\nC Z\\nC Z\\nC Z\\nA X\\nC Z\\nB Y\\nB Y\\nC Z\\nC Y\\nB Z\\nC Z\\nB Y\\nA X\\nA X\\nB Y\\nC Z\\nA X\\nC Z\\nB Z\\nC Z\\nA X\\nB Y'"
            ],
            "application/vnd.google.colaboratory.intrinsic+json": {
              "type": "string"
            }
          },
          "metadata": {},
          "execution_count": 1
        }
      ],
      "source": [
        "# open Day2_input as file and store the lines of the file as a string\n",
        "\n",
        "strings = ''\n",
        "with open(\"Day2_input.txt\") as file:\n",
        "  for line in file:\n",
        "    if line is not None:\n",
        "      strings+=line\n",
        "      \n",
        "strings"
      ]
    },
    {
      "cell_type": "code",
      "source": [
        "# Creating a dataframe that contains each line (tournament round) in a seperate row\n",
        "\n",
        "splits = strings.split('\\n')\n",
        "df = pd.DataFrame(splits)\n",
        "\n",
        "df.head()"
      ],
      "metadata": {
        "id": "hDWv0wrql2u_",
        "colab": {
          "base_uri": "https://localhost:8080/",
          "height": 206
        },
        "outputId": "f3e63156-0e07-48d5-80e9-962d61405e6c"
      },
      "execution_count": 5,
      "outputs": [
        {
          "output_type": "execute_result",
          "data": {
            "text/plain": [
              "     0\n",
              "0  B Y\n",
              "1  A X\n",
              "2  C Z\n",
              "3  A Z\n",
              "4  B Y"
            ],
            "text/html": [
              "\n",
              "  <div id=\"df-96297bdd-d395-446f-be44-eb4d5e5e6cd4\">\n",
              "    <div class=\"colab-df-container\">\n",
              "      <div>\n",
              "<style scoped>\n",
              "    .dataframe tbody tr th:only-of-type {\n",
              "        vertical-align: middle;\n",
              "    }\n",
              "\n",
              "    .dataframe tbody tr th {\n",
              "        vertical-align: top;\n",
              "    }\n",
              "\n",
              "    .dataframe thead th {\n",
              "        text-align: right;\n",
              "    }\n",
              "</style>\n",
              "<table border=\"1\" class=\"dataframe\">\n",
              "  <thead>\n",
              "    <tr style=\"text-align: right;\">\n",
              "      <th></th>\n",
              "      <th>0</th>\n",
              "    </tr>\n",
              "  </thead>\n",
              "  <tbody>\n",
              "    <tr>\n",
              "      <th>0</th>\n",
              "      <td>B Y</td>\n",
              "    </tr>\n",
              "    <tr>\n",
              "      <th>1</th>\n",
              "      <td>A X</td>\n",
              "    </tr>\n",
              "    <tr>\n",
              "      <th>2</th>\n",
              "      <td>C Z</td>\n",
              "    </tr>\n",
              "    <tr>\n",
              "      <th>3</th>\n",
              "      <td>A Z</td>\n",
              "    </tr>\n",
              "    <tr>\n",
              "      <th>4</th>\n",
              "      <td>B Y</td>\n",
              "    </tr>\n",
              "  </tbody>\n",
              "</table>\n",
              "</div>\n",
              "      <button class=\"colab-df-convert\" onclick=\"convertToInteractive('df-96297bdd-d395-446f-be44-eb4d5e5e6cd4')\"\n",
              "              title=\"Convert this dataframe to an interactive table.\"\n",
              "              style=\"display:none;\">\n",
              "        \n",
              "  <svg xmlns=\"http://www.w3.org/2000/svg\" height=\"24px\"viewBox=\"0 0 24 24\"\n",
              "       width=\"24px\">\n",
              "    <path d=\"M0 0h24v24H0V0z\" fill=\"none\"/>\n",
              "    <path d=\"M18.56 5.44l.94 2.06.94-2.06 2.06-.94-2.06-.94-.94-2.06-.94 2.06-2.06.94zm-11 1L8.5 8.5l.94-2.06 2.06-.94-2.06-.94L8.5 2.5l-.94 2.06-2.06.94zm10 10l.94 2.06.94-2.06 2.06-.94-2.06-.94-.94-2.06-.94 2.06-2.06.94z\"/><path d=\"M17.41 7.96l-1.37-1.37c-.4-.4-.92-.59-1.43-.59-.52 0-1.04.2-1.43.59L10.3 9.45l-7.72 7.72c-.78.78-.78 2.05 0 2.83L4 21.41c.39.39.9.59 1.41.59.51 0 1.02-.2 1.41-.59l7.78-7.78 2.81-2.81c.8-.78.8-2.07 0-2.86zM5.41 20L4 18.59l7.72-7.72 1.47 1.35L5.41 20z\"/>\n",
              "  </svg>\n",
              "      </button>\n",
              "      \n",
              "  <style>\n",
              "    .colab-df-container {\n",
              "      display:flex;\n",
              "      flex-wrap:wrap;\n",
              "      gap: 12px;\n",
              "    }\n",
              "\n",
              "    .colab-df-convert {\n",
              "      background-color: #E8F0FE;\n",
              "      border: none;\n",
              "      border-radius: 50%;\n",
              "      cursor: pointer;\n",
              "      display: none;\n",
              "      fill: #1967D2;\n",
              "      height: 32px;\n",
              "      padding: 0 0 0 0;\n",
              "      width: 32px;\n",
              "    }\n",
              "\n",
              "    .colab-df-convert:hover {\n",
              "      background-color: #E2EBFA;\n",
              "      box-shadow: 0px 1px 2px rgba(60, 64, 67, 0.3), 0px 1px 3px 1px rgba(60, 64, 67, 0.15);\n",
              "      fill: #174EA6;\n",
              "    }\n",
              "\n",
              "    [theme=dark] .colab-df-convert {\n",
              "      background-color: #3B4455;\n",
              "      fill: #D2E3FC;\n",
              "    }\n",
              "\n",
              "    [theme=dark] .colab-df-convert:hover {\n",
              "      background-color: #434B5C;\n",
              "      box-shadow: 0px 1px 3px 1px rgba(0, 0, 0, 0.15);\n",
              "      filter: drop-shadow(0px 1px 2px rgba(0, 0, 0, 0.3));\n",
              "      fill: #FFFFFF;\n",
              "    }\n",
              "  </style>\n",
              "\n",
              "      <script>\n",
              "        const buttonEl =\n",
              "          document.querySelector('#df-96297bdd-d395-446f-be44-eb4d5e5e6cd4 button.colab-df-convert');\n",
              "        buttonEl.style.display =\n",
              "          google.colab.kernel.accessAllowed ? 'block' : 'none';\n",
              "\n",
              "        async function convertToInteractive(key) {\n",
              "          const element = document.querySelector('#df-96297bdd-d395-446f-be44-eb4d5e5e6cd4');\n",
              "          const dataTable =\n",
              "            await google.colab.kernel.invokeFunction('convertToInteractive',\n",
              "                                                     [key], {});\n",
              "          if (!dataTable) return;\n",
              "\n",
              "          const docLinkHtml = 'Like what you see? Visit the ' +\n",
              "            '<a target=\"_blank\" href=https://colab.research.google.com/notebooks/data_table.ipynb>data table notebook</a>'\n",
              "            + ' to learn more about interactive tables.';\n",
              "          element.innerHTML = '';\n",
              "          dataTable['output_type'] = 'display_data';\n",
              "          await google.colab.output.renderOutput(dataTable, element);\n",
              "          const docLink = document.createElement('div');\n",
              "          docLink.innerHTML = docLinkHtml;\n",
              "          element.appendChild(docLink);\n",
              "        }\n",
              "      </script>\n",
              "    </div>\n",
              "  </div>\n",
              "  "
            ]
          },
          "metadata": {},
          "execution_count": 5
        }
      ]
    },
    {
      "cell_type": "markdown",
      "source": [
        "The first letter represents the opponent and the second letter represents us:\n",
        "\n",
        "\\begin{array}{|c|c|} \\hline\n",
        "& Opponent & Us\\ \\\\ \\hline\n",
        "Rock & A & X \\\\ \\hline\n",
        "Paper & B & Y \\\\ \\hline\n",
        "Scissors & C & Z \\\\ \\hline\n",
        "\\end{array}\n",
        "\n",
        "Therefore, A means that the opponent chose rock and X means that we chose rock."
      ],
      "metadata": {
        "id": "O8PPzmciyayW"
      }
    },
    {
      "cell_type": "markdown",
      "source": [
        "\\begin{array} \\hline\n",
        "How\\ scoring\\ works:\n",
        "\\end{array}\n",
        "\n",
        "\\begin{array}{|c|c|} \\hline\n",
        "& Win & Draw & Lose\\\\ \\hline\n",
        "Rock & 7 & 4 & 1 \\\\ \\hline\n",
        "Paper & 8 & 5 & 2 \\\\ \\hline\n",
        "Scissors & 9 & 6 & 3 \\\\ \\hline\n",
        "\\end{array}\n",
        "\n",
        "This means that if we win by using rock, we get a score of 7, losing by using scissors results in score 3, etc."
      ],
      "metadata": {
        "id": "oRUTBtRksswS"
      }
    },
    {
      "cell_type": "code",
      "source": [
        "# I will need to create a loop that goes through 2500 rows\n",
        "\n",
        "df.shape"
      ],
      "metadata": {
        "colab": {
          "base_uri": "https://localhost:8080/"
        },
        "id": "T7Xy3y__xtgi",
        "outputId": "80d483fe-7ae9-4898-ee9f-d6d3a434f0be"
      },
      "execution_count": 6,
      "outputs": [
        {
          "output_type": "execute_result",
          "data": {
            "text/plain": [
              "(2500, 1)"
            ]
          },
          "metadata": {},
          "execution_count": 6
        }
      ]
    },
    {
      "cell_type": "code",
      "source": [
        "# Creating a loop that calculates the total score\n",
        "\n",
        "# set score as 0\n",
        "score=0\n",
        "\n",
        "# set all outcomes\n",
        "win_scissors = 9 # example: this means won using scissors\n",
        "draw_scissors = 6\n",
        "lost_scissors = 3\n",
        "win_rock = 7\n",
        "draw_rock = 4\n",
        "lost_rock = 1\n",
        "win_paper = 8\n",
        "draw_paper = 5\n",
        "lost_paper = 2\n",
        "\n",
        "# loop through all rows and add the appropriate outcome to the score\n",
        "for i in range(0,2500):\n",
        "  # when opponent rock\n",
        "  if df[0][i]=='A X':\n",
        "    score+=draw_rock\n",
        "  elif df[0][i]=='A Y':\n",
        "    score+=win_paper\n",
        "  elif df[0][i]=='A Z':\n",
        "    score+= lost_scissors\n",
        "  # when opponent paper\n",
        "  elif df[0][i]=='B Z':\n",
        "    score+=win_scissors\n",
        "  elif df[0][i]=='B Y':\n",
        "    score+=draw_paper\n",
        "  elif df[0][i]=='B X':\n",
        "    score+=lost_rock\n",
        "  # when opponent scissors\n",
        "  elif df[0][i]=='C X':\n",
        "    score+=win_rock\n",
        "  elif df[0][i]=='C Y':\n",
        "    score+=lost_paper\n",
        "  elif df[0][i]=='C Z':\n",
        "    score+=draw_scissors\n",
        "\n",
        "# View final score\n",
        "score"
      ],
      "metadata": {
        "colab": {
          "base_uri": "https://localhost:8080/"
        },
        "id": "MQz5dEXSn8lz",
        "outputId": "ff660f41-a096-4378-abef-8c452c5a2789"
      },
      "execution_count": 7,
      "outputs": [
        {
          "output_type": "execute_result",
          "data": {
            "text/plain": [
              "13675"
            ]
          },
          "metadata": {},
          "execution_count": 7
        }
      ]
    },
    {
      "cell_type": "markdown",
      "source": [
        "Part 2"
      ],
      "metadata": {
        "id": "KfwrbRibw0IB"
      }
    },
    {
      "cell_type": "markdown",
      "source": [
        "What is the total score based on the alternative proposed meaning of the letters?"
      ],
      "metadata": {
        "id": "_YMciX_24Gjw"
      }
    },
    {
      "cell_type": "markdown",
      "source": [
        "The first letter represents the opponent and the second letter represents the outcome we need to achieve:\n",
        "\n",
        "\\begin{array}{|c|c|} \\hline\n",
        "& Opponent & Outcome \\\\ \\hline\n",
        "Rock & A &  \\\\ \\hline\n",
        "Paper & B &  \\\\ \\hline\n",
        "Scissors & C &  \\\\ \\hline\n",
        "Lose &  & X \\\\ \\hline\n",
        "Draw &  & Y \\\\ \\hline\n",
        "Win &  & Z \\\\ \\hline\n",
        "\\end{array}\n",
        "\n",
        "Therefore, A means that the opponent chose rock and X means that we need to lose the round, so we would need to play scissors."
      ],
      "metadata": {
        "id": "q-TcUkth1SHO"
      }
    },
    {
      "cell_type": "code",
      "source": [
        "# Modify the previous loop to correctly calculate the new total score\n",
        "\n",
        "# set score as 0\n",
        "score=0\n",
        "\n",
        "# set all outcomes\n",
        "win_scissors = 6 + 3 # example: this means won using scissors\n",
        "lost_scissors = 0 + 3\n",
        "win_rock = 6 + 1\n",
        "lost_rock = 0 + 1\n",
        "draw_rock = 1 + 3\n",
        "win_paper = 6 + 2\n",
        "draw_paper = 2 + 3\n",
        "lost_paper = 0 + 2\n",
        "draw_scissors = 3 + 3\n",
        "\n",
        "# loop through all rows and add the appropriate outcome to the score\n",
        "for i in range(0,2500):\n",
        "  # when opponent rock\n",
        "  if df[0][i]=='A X':\n",
        "    score+=lost_scissors\n",
        "  elif df[0][i]=='A Y':\n",
        "    score+=draw_rock\n",
        "  elif df[0][i]=='A Z':\n",
        "    score+= win_paper\n",
        "  # when opponent paper\n",
        "  elif df[0][i]=='B Z':\n",
        "    score+=win_scissors\n",
        "  elif df[0][i]=='B Y':\n",
        "    score+=draw_paper\n",
        "  elif df[0][i]=='B X':\n",
        "    score+=lost_rock\n",
        "  # when opponent scissors\n",
        "  elif df[0][i]=='C X':\n",
        "    score+=lost_paper\n",
        "  elif df[0][i]=='C Y':\n",
        "    score+=draw_scissors\n",
        "  elif df[0][i]=='C Z':\n",
        "    score+=win_rock\n",
        "\n",
        "# View final score\n",
        "score"
      ],
      "metadata": {
        "colab": {
          "base_uri": "https://localhost:8080/"
        },
        "id": "eH3GWhz8tvcd",
        "outputId": "a8bcd280-e418-43cc-e426-f62b16c39548"
      },
      "execution_count": 8,
      "outputs": [
        {
          "output_type": "execute_result",
          "data": {
            "text/plain": [
              "14184"
            ]
          },
          "metadata": {},
          "execution_count": 8
        }
      ]
    },
    {
      "cell_type": "code",
      "source": [],
      "metadata": {
        "id": "V31iK55CngYS"
      },
      "execution_count": null,
      "outputs": []
    }
  ],
  "metadata": {
    "colab": {
      "provenance": []
    },
    "kernelspec": {
      "display_name": "Python 3",
      "name": "python3"
    },
    "language_info": {
      "name": "python"
    }
  },
  "nbformat": 4,
  "nbformat_minor": 0
}