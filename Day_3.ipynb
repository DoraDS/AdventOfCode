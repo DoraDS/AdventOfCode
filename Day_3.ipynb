{
  "nbformat": 4,
  "nbformat_minor": 0,
  "metadata": {
    "colab": {
      "provenance": []
    },
    "kernelspec": {
      "name": "python3",
      "display_name": "Python 3"
    },
    "language_info": {
      "name": "python"
    }
  },
  "cells": [
    {
      "cell_type": "markdown",
      "source": [
        "--- Day 3: Rucksack Reorganization ---"
      ],
      "metadata": {
        "id": "cqhC5fhh5FmN"
      }
    },
    {
      "cell_type": "markdown",
      "source": [
        "Go to Advent of Code (https://adventofcode.com/) for the full description of the challenge solved here."
      ],
      "metadata": {
        "id": "l_cocrXN5LJE"
      }
    },
    {
      "cell_type": "markdown",
      "source": [
        "Summary of challenge: The Day 3 input contains a series of letters which represent items in a rucksack. Each line of text correspond to a rucksack carried by one elf, but each rucksack can be divided into 2 compartments containing an equal amount of items (letters). In part 1, we need to calculate the total priority score of letters that are the same in both rucksack compartments. In part 2, we need to seperate the elfs into groups of 3 (1 group - 3 rucksacks) and calculate the total priority score based on the letter that occurs in all 3 rucksacks."
      ],
      "metadata": {
        "id": "QsOQGW2k5QTk"
      }
    },
    {
      "cell_type": "code",
      "execution_count": 1,
      "metadata": {
        "id": "5FPFAYZkuioB"
      },
      "outputs": [],
      "source": [
        "import pandas as pd\n",
        "import itertools # allows parrallel comparison\n",
        "# will be neccessary for scoring letters: \n",
        "from string import ascii_lowercase\n",
        "from string import ascii_uppercase"
      ]
    },
    {
      "cell_type": "markdown",
      "source": [
        "Part 1"
      ],
      "metadata": {
        "id": "CFfPwsA-UG4K"
      }
    },
    {
      "cell_type": "markdown",
      "source": [
        "What is the total priority score of letters that are the same in both rucksack compartments?"
      ],
      "metadata": {
        "id": "5IOngj-DDJrN"
      }
    },
    {
      "cell_type": "code",
      "source": [
        "# load Day3_input as a dataframe\n",
        "\n",
        "excel = pd.read_excel(\"Day3_input.xlsx\", header=None)\n",
        "excel.head()"
      ],
      "metadata": {
        "id": "uLvSnoM15gbf",
        "colab": {
          "base_uri": "https://localhost:8080/",
          "height": 206
        },
        "outputId": "5fe317c0-1e69-4c8b-875e-e5fc0af07ba7"
      },
      "execution_count": 26,
      "outputs": [
        {
          "output_type": "execute_result",
          "data": {
            "text/plain": [
              "                                              0\n",
              "0                              WwcsbsWwspmFTGVV\n",
              "1  RHtMDHdSMnDBGMSDvnvDjtmpTpjTFggpmjmTFggTjmpP\n",
              "2        vtCSGRMBDzHddvBHBzRhrlcZhlLzWNlqblhzcr\n",
              "3                shhszHNHHZWqSzVNdClMjlFjBBbNTB\n",
              "4          tQQGmnrMnJnGfmvrRRPCjlbljFBdjFCjTjnP"
            ],
            "text/html": [
              "\n",
              "  <div id=\"df-50af6585-3aeb-4ed7-9038-e96eaddc00fa\">\n",
              "    <div class=\"colab-df-container\">\n",
              "      <div>\n",
              "<style scoped>\n",
              "    .dataframe tbody tr th:only-of-type {\n",
              "        vertical-align: middle;\n",
              "    }\n",
              "\n",
              "    .dataframe tbody tr th {\n",
              "        vertical-align: top;\n",
              "    }\n",
              "\n",
              "    .dataframe thead th {\n",
              "        text-align: right;\n",
              "    }\n",
              "</style>\n",
              "<table border=\"1\" class=\"dataframe\">\n",
              "  <thead>\n",
              "    <tr style=\"text-align: right;\">\n",
              "      <th></th>\n",
              "      <th>0</th>\n",
              "    </tr>\n",
              "  </thead>\n",
              "  <tbody>\n",
              "    <tr>\n",
              "      <th>0</th>\n",
              "      <td>WwcsbsWwspmFTGVV</td>\n",
              "    </tr>\n",
              "    <tr>\n",
              "      <th>1</th>\n",
              "      <td>RHtMDHdSMnDBGMSDvnvDjtmpTpjTFggpmjmTFggTjmpP</td>\n",
              "    </tr>\n",
              "    <tr>\n",
              "      <th>2</th>\n",
              "      <td>vtCSGRMBDzHddvBHBzRhrlcZhlLzWNlqblhzcr</td>\n",
              "    </tr>\n",
              "    <tr>\n",
              "      <th>3</th>\n",
              "      <td>shhszHNHHZWqSzVNdClMjlFjBBbNTB</td>\n",
              "    </tr>\n",
              "    <tr>\n",
              "      <th>4</th>\n",
              "      <td>tQQGmnrMnJnGfmvrRRPCjlbljFBdjFCjTjnP</td>\n",
              "    </tr>\n",
              "  </tbody>\n",
              "</table>\n",
              "</div>\n",
              "      <button class=\"colab-df-convert\" onclick=\"convertToInteractive('df-50af6585-3aeb-4ed7-9038-e96eaddc00fa')\"\n",
              "              title=\"Convert this dataframe to an interactive table.\"\n",
              "              style=\"display:none;\">\n",
              "        \n",
              "  <svg xmlns=\"http://www.w3.org/2000/svg\" height=\"24px\"viewBox=\"0 0 24 24\"\n",
              "       width=\"24px\">\n",
              "    <path d=\"M0 0h24v24H0V0z\" fill=\"none\"/>\n",
              "    <path d=\"M18.56 5.44l.94 2.06.94-2.06 2.06-.94-2.06-.94-.94-2.06-.94 2.06-2.06.94zm-11 1L8.5 8.5l.94-2.06 2.06-.94-2.06-.94L8.5 2.5l-.94 2.06-2.06.94zm10 10l.94 2.06.94-2.06 2.06-.94-2.06-.94-.94-2.06-.94 2.06-2.06.94z\"/><path d=\"M17.41 7.96l-1.37-1.37c-.4-.4-.92-.59-1.43-.59-.52 0-1.04.2-1.43.59L10.3 9.45l-7.72 7.72c-.78.78-.78 2.05 0 2.83L4 21.41c.39.39.9.59 1.41.59.51 0 1.02-.2 1.41-.59l7.78-7.78 2.81-2.81c.8-.78.8-2.07 0-2.86zM5.41 20L4 18.59l7.72-7.72 1.47 1.35L5.41 20z\"/>\n",
              "  </svg>\n",
              "      </button>\n",
              "      \n",
              "  <style>\n",
              "    .colab-df-container {\n",
              "      display:flex;\n",
              "      flex-wrap:wrap;\n",
              "      gap: 12px;\n",
              "    }\n",
              "\n",
              "    .colab-df-convert {\n",
              "      background-color: #E8F0FE;\n",
              "      border: none;\n",
              "      border-radius: 50%;\n",
              "      cursor: pointer;\n",
              "      display: none;\n",
              "      fill: #1967D2;\n",
              "      height: 32px;\n",
              "      padding: 0 0 0 0;\n",
              "      width: 32px;\n",
              "    }\n",
              "\n",
              "    .colab-df-convert:hover {\n",
              "      background-color: #E2EBFA;\n",
              "      box-shadow: 0px 1px 2px rgba(60, 64, 67, 0.3), 0px 1px 3px 1px rgba(60, 64, 67, 0.15);\n",
              "      fill: #174EA6;\n",
              "    }\n",
              "\n",
              "    [theme=dark] .colab-df-convert {\n",
              "      background-color: #3B4455;\n",
              "      fill: #D2E3FC;\n",
              "    }\n",
              "\n",
              "    [theme=dark] .colab-df-convert:hover {\n",
              "      background-color: #434B5C;\n",
              "      box-shadow: 0px 1px 3px 1px rgba(0, 0, 0, 0.15);\n",
              "      filter: drop-shadow(0px 1px 2px rgba(0, 0, 0, 0.3));\n",
              "      fill: #FFFFFF;\n",
              "    }\n",
              "  </style>\n",
              "\n",
              "      <script>\n",
              "        const buttonEl =\n",
              "          document.querySelector('#df-50af6585-3aeb-4ed7-9038-e96eaddc00fa button.colab-df-convert');\n",
              "        buttonEl.style.display =\n",
              "          google.colab.kernel.accessAllowed ? 'block' : 'none';\n",
              "\n",
              "        async function convertToInteractive(key) {\n",
              "          const element = document.querySelector('#df-50af6585-3aeb-4ed7-9038-e96eaddc00fa');\n",
              "          const dataTable =\n",
              "            await google.colab.kernel.invokeFunction('convertToInteractive',\n",
              "                                                     [key], {});\n",
              "          if (!dataTable) return;\n",
              "\n",
              "          const docLinkHtml = 'Like what you see? Visit the ' +\n",
              "            '<a target=\"_blank\" href=https://colab.research.google.com/notebooks/data_table.ipynb>data table notebook</a>'\n",
              "            + ' to learn more about interactive tables.';\n",
              "          element.innerHTML = '';\n",
              "          dataTable['output_type'] = 'display_data';\n",
              "          await google.colab.output.renderOutput(dataTable, element);\n",
              "          const docLink = document.createElement('div');\n",
              "          docLink.innerHTML = docLinkHtml;\n",
              "          element.appendChild(docLink);\n",
              "        }\n",
              "      </script>\n",
              "    </div>\n",
              "  </div>\n",
              "  "
            ]
          },
          "metadata": {},
          "execution_count": 26
        }
      ]
    },
    {
      "cell_type": "code",
      "source": [
        "# creating a dataframe that contains the first and second half of the rucksack\n",
        "\n",
        "first=[] # list will contain the first half of the string (rucksack)\n",
        "second=[] # list will contain the second half of the string (rucksack)\n",
        "\n",
        "for x in excel[0]:\n",
        "  # determine the half point in a string by dividing the string by 2\n",
        "  half=int(len(x)/2)\n",
        "  # add the first and second half of the string to lists, respectively\n",
        "  first.append(x[:half])\n",
        "  second.append(x[half:])\n",
        "\n",
        "# add the elements of the lists as columns in a new dataframe\n",
        "df = pd.DataFrame()\n",
        "df[\"first\"]=first\n",
        "df[\"second\"]=second\n",
        "df.head()"
      ],
      "metadata": {
        "id": "jkGOYofxLzUd",
        "colab": {
          "base_uri": "https://localhost:8080/",
          "height": 206
        },
        "outputId": "4c684295-f181-4f4b-f840-0eea043ea403"
      },
      "execution_count": 27,
      "outputs": [
        {
          "output_type": "execute_result",
          "data": {
            "text/plain": [
              "                    first                  second\n",
              "0                WwcsbsWw                spmFTGVV\n",
              "1  RHtMDHdSMnDBGMSDvnvDjt  mpTpjTFggpmjmTFggTjmpP\n",
              "2     vtCSGRMBDzHddvBHBzR     hrlcZhlLzWNlqblhzcr\n",
              "3         shhszHNHHZWqSzV         NdClMjlFjBBbNTB\n",
              "4      tQQGmnrMnJnGfmvrRR      PCjlbljFBdjFCjTjnP"
            ],
            "text/html": [
              "\n",
              "  <div id=\"df-e1036bde-236d-43ec-9843-adc717851753\">\n",
              "    <div class=\"colab-df-container\">\n",
              "      <div>\n",
              "<style scoped>\n",
              "    .dataframe tbody tr th:only-of-type {\n",
              "        vertical-align: middle;\n",
              "    }\n",
              "\n",
              "    .dataframe tbody tr th {\n",
              "        vertical-align: top;\n",
              "    }\n",
              "\n",
              "    .dataframe thead th {\n",
              "        text-align: right;\n",
              "    }\n",
              "</style>\n",
              "<table border=\"1\" class=\"dataframe\">\n",
              "  <thead>\n",
              "    <tr style=\"text-align: right;\">\n",
              "      <th></th>\n",
              "      <th>first</th>\n",
              "      <th>second</th>\n",
              "    </tr>\n",
              "  </thead>\n",
              "  <tbody>\n",
              "    <tr>\n",
              "      <th>0</th>\n",
              "      <td>WwcsbsWw</td>\n",
              "      <td>spmFTGVV</td>\n",
              "    </tr>\n",
              "    <tr>\n",
              "      <th>1</th>\n",
              "      <td>RHtMDHdSMnDBGMSDvnvDjt</td>\n",
              "      <td>mpTpjTFggpmjmTFggTjmpP</td>\n",
              "    </tr>\n",
              "    <tr>\n",
              "      <th>2</th>\n",
              "      <td>vtCSGRMBDzHddvBHBzR</td>\n",
              "      <td>hrlcZhlLzWNlqblhzcr</td>\n",
              "    </tr>\n",
              "    <tr>\n",
              "      <th>3</th>\n",
              "      <td>shhszHNHHZWqSzV</td>\n",
              "      <td>NdClMjlFjBBbNTB</td>\n",
              "    </tr>\n",
              "    <tr>\n",
              "      <th>4</th>\n",
              "      <td>tQQGmnrMnJnGfmvrRR</td>\n",
              "      <td>PCjlbljFBdjFCjTjnP</td>\n",
              "    </tr>\n",
              "  </tbody>\n",
              "</table>\n",
              "</div>\n",
              "      <button class=\"colab-df-convert\" onclick=\"convertToInteractive('df-e1036bde-236d-43ec-9843-adc717851753')\"\n",
              "              title=\"Convert this dataframe to an interactive table.\"\n",
              "              style=\"display:none;\">\n",
              "        \n",
              "  <svg xmlns=\"http://www.w3.org/2000/svg\" height=\"24px\"viewBox=\"0 0 24 24\"\n",
              "       width=\"24px\">\n",
              "    <path d=\"M0 0h24v24H0V0z\" fill=\"none\"/>\n",
              "    <path d=\"M18.56 5.44l.94 2.06.94-2.06 2.06-.94-2.06-.94-.94-2.06-.94 2.06-2.06.94zm-11 1L8.5 8.5l.94-2.06 2.06-.94-2.06-.94L8.5 2.5l-.94 2.06-2.06.94zm10 10l.94 2.06.94-2.06 2.06-.94-2.06-.94-.94-2.06-.94 2.06-2.06.94z\"/><path d=\"M17.41 7.96l-1.37-1.37c-.4-.4-.92-.59-1.43-.59-.52 0-1.04.2-1.43.59L10.3 9.45l-7.72 7.72c-.78.78-.78 2.05 0 2.83L4 21.41c.39.39.9.59 1.41.59.51 0 1.02-.2 1.41-.59l7.78-7.78 2.81-2.81c.8-.78.8-2.07 0-2.86zM5.41 20L4 18.59l7.72-7.72 1.47 1.35L5.41 20z\"/>\n",
              "  </svg>\n",
              "      </button>\n",
              "      \n",
              "  <style>\n",
              "    .colab-df-container {\n",
              "      display:flex;\n",
              "      flex-wrap:wrap;\n",
              "      gap: 12px;\n",
              "    }\n",
              "\n",
              "    .colab-df-convert {\n",
              "      background-color: #E8F0FE;\n",
              "      border: none;\n",
              "      border-radius: 50%;\n",
              "      cursor: pointer;\n",
              "      display: none;\n",
              "      fill: #1967D2;\n",
              "      height: 32px;\n",
              "      padding: 0 0 0 0;\n",
              "      width: 32px;\n",
              "    }\n",
              "\n",
              "    .colab-df-convert:hover {\n",
              "      background-color: #E2EBFA;\n",
              "      box-shadow: 0px 1px 2px rgba(60, 64, 67, 0.3), 0px 1px 3px 1px rgba(60, 64, 67, 0.15);\n",
              "      fill: #174EA6;\n",
              "    }\n",
              "\n",
              "    [theme=dark] .colab-df-convert {\n",
              "      background-color: #3B4455;\n",
              "      fill: #D2E3FC;\n",
              "    }\n",
              "\n",
              "    [theme=dark] .colab-df-convert:hover {\n",
              "      background-color: #434B5C;\n",
              "      box-shadow: 0px 1px 3px 1px rgba(0, 0, 0, 0.15);\n",
              "      filter: drop-shadow(0px 1px 2px rgba(0, 0, 0, 0.3));\n",
              "      fill: #FFFFFF;\n",
              "    }\n",
              "  </style>\n",
              "\n",
              "      <script>\n",
              "        const buttonEl =\n",
              "          document.querySelector('#df-e1036bde-236d-43ec-9843-adc717851753 button.colab-df-convert');\n",
              "        buttonEl.style.display =\n",
              "          google.colab.kernel.accessAllowed ? 'block' : 'none';\n",
              "\n",
              "        async function convertToInteractive(key) {\n",
              "          const element = document.querySelector('#df-e1036bde-236d-43ec-9843-adc717851753');\n",
              "          const dataTable =\n",
              "            await google.colab.kernel.invokeFunction('convertToInteractive',\n",
              "                                                     [key], {});\n",
              "          if (!dataTable) return;\n",
              "\n",
              "          const docLinkHtml = 'Like what you see? Visit the ' +\n",
              "            '<a target=\"_blank\" href=https://colab.research.google.com/notebooks/data_table.ipynb>data table notebook</a>'\n",
              "            + ' to learn more about interactive tables.';\n",
              "          element.innerHTML = '';\n",
              "          dataTable['output_type'] = 'display_data';\n",
              "          await google.colab.output.renderOutput(dataTable, element);\n",
              "          const docLink = document.createElement('div');\n",
              "          docLink.innerHTML = docLinkHtml;\n",
              "          element.appendChild(docLink);\n",
              "        }\n",
              "      </script>\n",
              "    </div>\n",
              "  </div>\n",
              "  "
            ]
          },
          "metadata": {},
          "execution_count": 27
        }
      ]
    },
    {
      "cell_type": "code",
      "source": [
        "# There are 300 rucksacks\n",
        "\n",
        "df.shape"
      ],
      "metadata": {
        "colab": {
          "base_uri": "https://localhost:8080/"
        },
        "id": "FfDZNNe2Jfxg",
        "outputId": "9841369e-377b-4a47-84bb-0833b366da82"
      },
      "execution_count": 28,
      "outputs": [
        {
          "output_type": "execute_result",
          "data": {
            "text/plain": [
              "(300, 2)"
            ]
          },
          "metadata": {},
          "execution_count": 28
        }
      ]
    },
    {
      "cell_type": "code",
      "source": [
        "# storing the letters that repeat in both rucksack compartments\n",
        "\n",
        "store=[] # used to store repeating letters\n",
        "for z in range(0,300):\n",
        "  for i, j in itertools.product(df[\"first\"][z], df[\"second\"][z]): # itertools allows parralel comparison between the two compartments\n",
        "    if i==j:\n",
        "      store.append(i) # append to the new list when the letter repeats between the first and second compartment\n",
        "      break # break because the letter repetition should only be recorded once"
      ],
      "metadata": {
        "id": "aJhKxjpbRxZw"
      },
      "execution_count": 29,
      "outputs": []
    },
    {
      "cell_type": "code",
      "source": [
        "# The length is the same as the number of rucksacks which means that the loop has been created successfully\n",
        "\n",
        "len(store)"
      ],
      "metadata": {
        "colab": {
          "base_uri": "https://localhost:8080/"
        },
        "id": "pYfcQ5Sl7_b5",
        "outputId": "131a6117-f585-45f2-e5a7-07dcd4ef253c"
      },
      "execution_count": 30,
      "outputs": [
        {
          "output_type": "execute_result",
          "data": {
            "text/plain": [
              "300"
            ]
          },
          "metadata": {},
          "execution_count": 30
        }
      ]
    },
    {
      "cell_type": "code",
      "source": [
        "# Creating a dataframe that contains priority rules\n",
        "\n",
        "# creating a list of all the letters of the alphabet\n",
        "list_score=[]\n",
        "for i in ascii_lowercase:\n",
        "  list_score.append(i)\n",
        "for i in ascii_uppercase:\n",
        "  list_score.append(i)\n",
        "\n",
        "# creating a new priority dataframe\n",
        "priority=pd.DataFrame()\n",
        "# adding the letters of the alphabet to the priority dataframe\n",
        "priority[\"alphabet\"]=list_score"
      ],
      "metadata": {
        "id": "PymejTQ8MGZB"
      },
      "execution_count": 31,
      "outputs": []
    },
    {
      "cell_type": "code",
      "source": [
        "# The priority dataframe contains 52 rows\n",
        "# lowercase letters in the alphabet column need to have priorities 1 through 26\n",
        "# uppercase letters in the alphabet column need to have priorities 27 through 52\n",
        "\n",
        "priority.shape"
      ],
      "metadata": {
        "colab": {
          "base_uri": "https://localhost:8080/"
        },
        "id": "-I_9VhD79bzp",
        "outputId": "75ecfdbe-c7fb-499f-88d8-b6c990e0074a"
      },
      "execution_count": 32,
      "outputs": [
        {
          "output_type": "execute_result",
          "data": {
            "text/plain": [
              "(52, 1)"
            ]
          },
          "metadata": {},
          "execution_count": 32
        }
      ]
    },
    {
      "cell_type": "code",
      "source": [
        "# adding priorities to the priority dataframe\n",
        "\n",
        "# Creating a list that contains numbers between 1 and 52 (inclusive)\n",
        "priorities=[]\n",
        "for i in range(1, 53):\n",
        "  priorities.append(i)\n",
        "\n",
        "# Creating a priority column in the priority dataframe\n",
        "priority[\"priority\"]=priorities\n",
        "\n",
        "# There are now 2 columns in the priority dataframe\n",
        "priority.shape"
      ],
      "metadata": {
        "colab": {
          "base_uri": "https://localhost:8080/"
        },
        "id": "dcL3UQsbM_Nj",
        "outputId": "e9fcef40-0823-405c-87d7-d06708520a68"
      },
      "execution_count": 33,
      "outputs": [
        {
          "output_type": "execute_result",
          "data": {
            "text/plain": [
              "(52, 2)"
            ]
          },
          "metadata": {},
          "execution_count": 33
        }
      ]
    },
    {
      "cell_type": "code",
      "source": [
        "# Calculating the total priority score from the input\n",
        "\n",
        "total=[]\n",
        "#loop through all the repetitive letters\n",
        "for z in range(0, 300):\n",
        "  for i in store[z]:\n",
        "    # loop through all the priorities outcomes\n",
        "    for u in range(0, 52):\n",
        "      if i==priority[\"alphabet\"][u]: # when the repetitive letter matches the priority letter\n",
        "        total.append(priority[\"priority\"][u]) # then append the appropriate priority score to the total score\n",
        "\n",
        "# Viewing the total score\n",
        "sum(total)"
      ],
      "metadata": {
        "colab": {
          "base_uri": "https://localhost:8080/"
        },
        "id": "KJtLGjUNReVo",
        "outputId": "e9701d12-2fc1-4872-f8d4-792d921290fc"
      },
      "execution_count": 35,
      "outputs": [
        {
          "output_type": "execute_result",
          "data": {
            "text/plain": [
              "7850"
            ]
          },
          "metadata": {},
          "execution_count": 35
        }
      ]
    },
    {
      "cell_type": "markdown",
      "source": [
        "Part 2"
      ],
      "metadata": {
        "id": "Jo9o_a0cUD1N"
      }
    },
    {
      "cell_type": "markdown",
      "source": [
        "What is the total priority score based on the letter that occurs in all 3 rucksacks of a group of elfs?"
      ],
      "metadata": {
        "id": "7SiUN-07JBpk"
      }
    },
    {
      "cell_type": "code",
      "source": [
        "# Creating a loop that splits elfs into groups of 3\n",
        "\n",
        "groups=[]\n",
        "for i in range(0,300,3):\n",
        "  groups.append(excel[0][i:i+3]) # reminder: excel dataframe contains the original input\n",
        "\n",
        "groups[1]"
      ],
      "metadata": {
        "id": "xQmVYJ-pUVDg",
        "colab": {
          "base_uri": "https://localhost:8080/"
        },
        "outputId": "77a7ce3a-bcd2-4fe1-d8c7-c360903e73e3"
      },
      "execution_count": 37,
      "outputs": [
        {
          "output_type": "execute_result",
          "data": {
            "text/plain": [
              "3                  shhszHNHHZWqSzVNdClMjlFjBBbNTB\n",
              "4            tQQGmnrMnJnGfmvrRRPCjlbljFBdjFCjTjnP\n",
              "5    mRwtfGrMmJtwRDvQJQrJpMLSzVDHzhzHZqZzqSzcWVWH\n",
              "Name: 0, dtype: object"
            ]
          },
          "metadata": {},
          "execution_count": 37
        }
      ]
    },
    {
      "cell_type": "code",
      "source": [
        "# Creating a dataframe that contains each group in a seperate column\n",
        "\n",
        "group_df=pd.DataFrame(groups)\n",
        "group_df=group_df.transpose()\n",
        "group_df.columns = [x for x in range(0,100)] # naming columns as numbers\n",
        "group_df.head()"
      ],
      "metadata": {
        "colab": {
          "base_uri": "https://localhost:8080/",
          "height": 299
        },
        "id": "ml6L9sTHXwfm",
        "outputId": "a731c96d-8fb8-49a2-a76e-ee7f97cea0db"
      },
      "execution_count": 38,
      "outputs": [
        {
          "output_type": "execute_result",
          "data": {
            "text/plain": [
              "                                             0   \\\n",
              "0                              WwcsbsWwspmFTGVV   \n",
              "1  RHtMDHdSMnDBGMSDvnvDjtmpTpjTFggpmjmTFggTjmpP   \n",
              "2        vtCSGRMBDzHddvBHBzRhrlcZhlLzWNlqblhzcr   \n",
              "3                                           NaN   \n",
              "4                                           NaN   \n",
              "\n",
              "                                     1    2    3    4    5    6    7    8   \\\n",
              "0                                   NaN  NaN  NaN  NaN  NaN  NaN  NaN  NaN   \n",
              "1                                   NaN  NaN  NaN  NaN  NaN  NaN  NaN  NaN   \n",
              "2                                   NaN  NaN  NaN  NaN  NaN  NaN  NaN  NaN   \n",
              "3        shhszHNHHZWqSzVNdClMjlFjBBbNTB  NaN  NaN  NaN  NaN  NaN  NaN  NaN   \n",
              "4  tQQGmnrMnJnGfmvrRRPCjlbljFBdjFCjTjnP  NaN  NaN  NaN  NaN  NaN  NaN  NaN   \n",
              "\n",
              "    9   ...   90   91   92   93   94   95   96   97   98   99  \n",
              "0  NaN  ...  NaN  NaN  NaN  NaN  NaN  NaN  NaN  NaN  NaN  NaN  \n",
              "1  NaN  ...  NaN  NaN  NaN  NaN  NaN  NaN  NaN  NaN  NaN  NaN  \n",
              "2  NaN  ...  NaN  NaN  NaN  NaN  NaN  NaN  NaN  NaN  NaN  NaN  \n",
              "3  NaN  ...  NaN  NaN  NaN  NaN  NaN  NaN  NaN  NaN  NaN  NaN  \n",
              "4  NaN  ...  NaN  NaN  NaN  NaN  NaN  NaN  NaN  NaN  NaN  NaN  \n",
              "\n",
              "[5 rows x 100 columns]"
            ],
            "text/html": [
              "\n",
              "  <div id=\"df-4db7d3cc-6143-4de1-b02a-c3fafb0b7f67\">\n",
              "    <div class=\"colab-df-container\">\n",
              "      <div>\n",
              "<style scoped>\n",
              "    .dataframe tbody tr th:only-of-type {\n",
              "        vertical-align: middle;\n",
              "    }\n",
              "\n",
              "    .dataframe tbody tr th {\n",
              "        vertical-align: top;\n",
              "    }\n",
              "\n",
              "    .dataframe thead th {\n",
              "        text-align: right;\n",
              "    }\n",
              "</style>\n",
              "<table border=\"1\" class=\"dataframe\">\n",
              "  <thead>\n",
              "    <tr style=\"text-align: right;\">\n",
              "      <th></th>\n",
              "      <th>0</th>\n",
              "      <th>1</th>\n",
              "      <th>2</th>\n",
              "      <th>3</th>\n",
              "      <th>4</th>\n",
              "      <th>5</th>\n",
              "      <th>6</th>\n",
              "      <th>7</th>\n",
              "      <th>8</th>\n",
              "      <th>9</th>\n",
              "      <th>...</th>\n",
              "      <th>90</th>\n",
              "      <th>91</th>\n",
              "      <th>92</th>\n",
              "      <th>93</th>\n",
              "      <th>94</th>\n",
              "      <th>95</th>\n",
              "      <th>96</th>\n",
              "      <th>97</th>\n",
              "      <th>98</th>\n",
              "      <th>99</th>\n",
              "    </tr>\n",
              "  </thead>\n",
              "  <tbody>\n",
              "    <tr>\n",
              "      <th>0</th>\n",
              "      <td>WwcsbsWwspmFTGVV</td>\n",
              "      <td>NaN</td>\n",
              "      <td>NaN</td>\n",
              "      <td>NaN</td>\n",
              "      <td>NaN</td>\n",
              "      <td>NaN</td>\n",
              "      <td>NaN</td>\n",
              "      <td>NaN</td>\n",
              "      <td>NaN</td>\n",
              "      <td>NaN</td>\n",
              "      <td>...</td>\n",
              "      <td>NaN</td>\n",
              "      <td>NaN</td>\n",
              "      <td>NaN</td>\n",
              "      <td>NaN</td>\n",
              "      <td>NaN</td>\n",
              "      <td>NaN</td>\n",
              "      <td>NaN</td>\n",
              "      <td>NaN</td>\n",
              "      <td>NaN</td>\n",
              "      <td>NaN</td>\n",
              "    </tr>\n",
              "    <tr>\n",
              "      <th>1</th>\n",
              "      <td>RHtMDHdSMnDBGMSDvnvDjtmpTpjTFggpmjmTFggTjmpP</td>\n",
              "      <td>NaN</td>\n",
              "      <td>NaN</td>\n",
              "      <td>NaN</td>\n",
              "      <td>NaN</td>\n",
              "      <td>NaN</td>\n",
              "      <td>NaN</td>\n",
              "      <td>NaN</td>\n",
              "      <td>NaN</td>\n",
              "      <td>NaN</td>\n",
              "      <td>...</td>\n",
              "      <td>NaN</td>\n",
              "      <td>NaN</td>\n",
              "      <td>NaN</td>\n",
              "      <td>NaN</td>\n",
              "      <td>NaN</td>\n",
              "      <td>NaN</td>\n",
              "      <td>NaN</td>\n",
              "      <td>NaN</td>\n",
              "      <td>NaN</td>\n",
              "      <td>NaN</td>\n",
              "    </tr>\n",
              "    <tr>\n",
              "      <th>2</th>\n",
              "      <td>vtCSGRMBDzHddvBHBzRhrlcZhlLzWNlqblhzcr</td>\n",
              "      <td>NaN</td>\n",
              "      <td>NaN</td>\n",
              "      <td>NaN</td>\n",
              "      <td>NaN</td>\n",
              "      <td>NaN</td>\n",
              "      <td>NaN</td>\n",
              "      <td>NaN</td>\n",
              "      <td>NaN</td>\n",
              "      <td>NaN</td>\n",
              "      <td>...</td>\n",
              "      <td>NaN</td>\n",
              "      <td>NaN</td>\n",
              "      <td>NaN</td>\n",
              "      <td>NaN</td>\n",
              "      <td>NaN</td>\n",
              "      <td>NaN</td>\n",
              "      <td>NaN</td>\n",
              "      <td>NaN</td>\n",
              "      <td>NaN</td>\n",
              "      <td>NaN</td>\n",
              "    </tr>\n",
              "    <tr>\n",
              "      <th>3</th>\n",
              "      <td>NaN</td>\n",
              "      <td>shhszHNHHZWqSzVNdClMjlFjBBbNTB</td>\n",
              "      <td>NaN</td>\n",
              "      <td>NaN</td>\n",
              "      <td>NaN</td>\n",
              "      <td>NaN</td>\n",
              "      <td>NaN</td>\n",
              "      <td>NaN</td>\n",
              "      <td>NaN</td>\n",
              "      <td>NaN</td>\n",
              "      <td>...</td>\n",
              "      <td>NaN</td>\n",
              "      <td>NaN</td>\n",
              "      <td>NaN</td>\n",
              "      <td>NaN</td>\n",
              "      <td>NaN</td>\n",
              "      <td>NaN</td>\n",
              "      <td>NaN</td>\n",
              "      <td>NaN</td>\n",
              "      <td>NaN</td>\n",
              "      <td>NaN</td>\n",
              "    </tr>\n",
              "    <tr>\n",
              "      <th>4</th>\n",
              "      <td>NaN</td>\n",
              "      <td>tQQGmnrMnJnGfmvrRRPCjlbljFBdjFCjTjnP</td>\n",
              "      <td>NaN</td>\n",
              "      <td>NaN</td>\n",
              "      <td>NaN</td>\n",
              "      <td>NaN</td>\n",
              "      <td>NaN</td>\n",
              "      <td>NaN</td>\n",
              "      <td>NaN</td>\n",
              "      <td>NaN</td>\n",
              "      <td>...</td>\n",
              "      <td>NaN</td>\n",
              "      <td>NaN</td>\n",
              "      <td>NaN</td>\n",
              "      <td>NaN</td>\n",
              "      <td>NaN</td>\n",
              "      <td>NaN</td>\n",
              "      <td>NaN</td>\n",
              "      <td>NaN</td>\n",
              "      <td>NaN</td>\n",
              "      <td>NaN</td>\n",
              "    </tr>\n",
              "  </tbody>\n",
              "</table>\n",
              "<p>5 rows × 100 columns</p>\n",
              "</div>\n",
              "      <button class=\"colab-df-convert\" onclick=\"convertToInteractive('df-4db7d3cc-6143-4de1-b02a-c3fafb0b7f67')\"\n",
              "              title=\"Convert this dataframe to an interactive table.\"\n",
              "              style=\"display:none;\">\n",
              "        \n",
              "  <svg xmlns=\"http://www.w3.org/2000/svg\" height=\"24px\"viewBox=\"0 0 24 24\"\n",
              "       width=\"24px\">\n",
              "    <path d=\"M0 0h24v24H0V0z\" fill=\"none\"/>\n",
              "    <path d=\"M18.56 5.44l.94 2.06.94-2.06 2.06-.94-2.06-.94-.94-2.06-.94 2.06-2.06.94zm-11 1L8.5 8.5l.94-2.06 2.06-.94-2.06-.94L8.5 2.5l-.94 2.06-2.06.94zm10 10l.94 2.06.94-2.06 2.06-.94-2.06-.94-.94-2.06-.94 2.06-2.06.94z\"/><path d=\"M17.41 7.96l-1.37-1.37c-.4-.4-.92-.59-1.43-.59-.52 0-1.04.2-1.43.59L10.3 9.45l-7.72 7.72c-.78.78-.78 2.05 0 2.83L4 21.41c.39.39.9.59 1.41.59.51 0 1.02-.2 1.41-.59l7.78-7.78 2.81-2.81c.8-.78.8-2.07 0-2.86zM5.41 20L4 18.59l7.72-7.72 1.47 1.35L5.41 20z\"/>\n",
              "  </svg>\n",
              "      </button>\n",
              "      \n",
              "  <style>\n",
              "    .colab-df-container {\n",
              "      display:flex;\n",
              "      flex-wrap:wrap;\n",
              "      gap: 12px;\n",
              "    }\n",
              "\n",
              "    .colab-df-convert {\n",
              "      background-color: #E8F0FE;\n",
              "      border: none;\n",
              "      border-radius: 50%;\n",
              "      cursor: pointer;\n",
              "      display: none;\n",
              "      fill: #1967D2;\n",
              "      height: 32px;\n",
              "      padding: 0 0 0 0;\n",
              "      width: 32px;\n",
              "    }\n",
              "\n",
              "    .colab-df-convert:hover {\n",
              "      background-color: #E2EBFA;\n",
              "      box-shadow: 0px 1px 2px rgba(60, 64, 67, 0.3), 0px 1px 3px 1px rgba(60, 64, 67, 0.15);\n",
              "      fill: #174EA6;\n",
              "    }\n",
              "\n",
              "    [theme=dark] .colab-df-convert {\n",
              "      background-color: #3B4455;\n",
              "      fill: #D2E3FC;\n",
              "    }\n",
              "\n",
              "    [theme=dark] .colab-df-convert:hover {\n",
              "      background-color: #434B5C;\n",
              "      box-shadow: 0px 1px 3px 1px rgba(0, 0, 0, 0.15);\n",
              "      filter: drop-shadow(0px 1px 2px rgba(0, 0, 0, 0.3));\n",
              "      fill: #FFFFFF;\n",
              "    }\n",
              "  </style>\n",
              "\n",
              "      <script>\n",
              "        const buttonEl =\n",
              "          document.querySelector('#df-4db7d3cc-6143-4de1-b02a-c3fafb0b7f67 button.colab-df-convert');\n",
              "        buttonEl.style.display =\n",
              "          google.colab.kernel.accessAllowed ? 'block' : 'none';\n",
              "\n",
              "        async function convertToInteractive(key) {\n",
              "          const element = document.querySelector('#df-4db7d3cc-6143-4de1-b02a-c3fafb0b7f67');\n",
              "          const dataTable =\n",
              "            await google.colab.kernel.invokeFunction('convertToInteractive',\n",
              "                                                     [key], {});\n",
              "          if (!dataTable) return;\n",
              "\n",
              "          const docLinkHtml = 'Like what you see? Visit the ' +\n",
              "            '<a target=\"_blank\" href=https://colab.research.google.com/notebooks/data_table.ipynb>data table notebook</a>'\n",
              "            + ' to learn more about interactive tables.';\n",
              "          element.innerHTML = '';\n",
              "          dataTable['output_type'] = 'display_data';\n",
              "          await google.colab.output.renderOutput(dataTable, element);\n",
              "          const docLink = document.createElement('div');\n",
              "          docLink.innerHTML = docLinkHtml;\n",
              "          element.appendChild(docLink);\n",
              "        }\n",
              "      </script>\n",
              "    </div>\n",
              "  </div>\n",
              "  "
            ]
          },
          "metadata": {},
          "execution_count": 38
        }
      ]
    },
    {
      "cell_type": "code",
      "source": [
        "# Note\n",
        "# There are 297 nulls in each column because each member of each group retains the original index\n",
        "  # This means that 3 rows correspond to the group and 297 nulls correspond to indexes of other groups\n",
        "# However, all the data required is in the dataframe\n",
        "\n",
        "group_df.isnull().sum().head()"
      ],
      "metadata": {
        "colab": {
          "base_uri": "https://localhost:8080/"
        },
        "id": "LvxYiaCzdIhK",
        "outputId": "c75e8a6e-ac7a-4399-a958-72a470edaeaa"
      },
      "execution_count": 39,
      "outputs": [
        {
          "output_type": "execute_result",
          "data": {
            "text/plain": [
              "0    297\n",
              "1    297\n",
              "2    297\n",
              "3    297\n",
              "4    297\n",
              "dtype: int64"
            ]
          },
          "metadata": {},
          "execution_count": 39
        }
      ]
    },
    {
      "cell_type": "code",
      "source": [
        "# Creating a loop that determines the badge of each group of elfs\n",
        "# The badge is the letter that is contained within the rucksack of every elf in the group\n",
        "\n",
        "badge=[]\n",
        "counter=0\n",
        "for u in range(0, 300, 3):\n",
        "  try:\n",
        "    for i, j in itertools.product(group_df[counter][u], group_df[counter][u+1]):\n",
        "      if i==j: # when the item type is the same between the 1st and 2nd elf\n",
        "        for x in group_df[counter][u+2]: # then loop through the rucksack of the 3rd elf\n",
        "          if x==i: # if the 3rd elf also contains the item\n",
        "            badge.append(x) # then append the item to the badge list\n",
        "            counter+=1 # when the badge is found, the counter increases by 1 which allows going to the next group\n",
        "            break # when badge is found, break from the loop to go to the next group\n",
        "          else:\n",
        "            continue # if the badge has not been found, continue the comparison between the 1st and 2nd elf to find the badge\n",
        "  except:\n",
        "    TypeError # necessary to get around the nulls in the dataset\n",
        "    continue\n",
        "\n",
        "# Viewing the length of the badge list\n",
        "len(badge) # length should be equal to the number of groups (100)"
      ],
      "metadata": {
        "colab": {
          "base_uri": "https://localhost:8080/"
        },
        "id": "a6wjO0CqxYa2",
        "outputId": "db11e1ba-639e-4c2d-ebc1-dc868aed8079"
      },
      "execution_count": 40,
      "outputs": [
        {
          "output_type": "execute_result",
          "data": {
            "text/plain": [
              "100"
            ]
          },
          "metadata": {},
          "execution_count": 40
        }
      ]
    },
    {
      "cell_type": "code",
      "source": [
        "# Calculating the total badge score for part 2\n",
        "\n",
        "total_p2=[]\n",
        "\n",
        "# loop through all the letters in the badge list\n",
        "for z in range(0, 100):\n",
        "  for i in badge[z]:\n",
        "    # loop through all the outcomes in the priority dataframe\n",
        "    for u in range(0, 52):\n",
        "      if i==priority[\"alphabet\"][u]: # when the letter in the badges list matches the letter in the priority dataframe\n",
        "        total_p2.append(priority[\"priority\"][u]) # then append the appropriate score from the priority dataframe\n",
        "\n",
        "# Viewing the total sum for part 2\n",
        "sum(total_p2)"
      ],
      "metadata": {
        "colab": {
          "base_uri": "https://localhost:8080/"
        },
        "id": "KK35XnKIpeVa",
        "outputId": "e2ee7dcc-092a-4a49-e8b1-2dedf9878eed"
      },
      "execution_count": 41,
      "outputs": [
        {
          "output_type": "execute_result",
          "data": {
            "text/plain": [
              "2581"
            ]
          },
          "metadata": {},
          "execution_count": 41
        }
      ]
    }
  ]
}