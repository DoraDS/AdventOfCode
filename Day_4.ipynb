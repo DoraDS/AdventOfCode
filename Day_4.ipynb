{
  "nbformat": 4,
  "nbformat_minor": 0,
  "metadata": {
    "colab": {
      "provenance": []
    },
    "kernelspec": {
      "name": "python3",
      "display_name": "Python 3"
    },
    "language_info": {
      "name": "python"
    }
  },
  "cells": [
    {
      "cell_type": "markdown",
      "source": [
        "--- Day 4: Camp Cleanup ---"
      ],
      "metadata": {
        "id": "m8D1Fpm6au3p"
      }
    },
    {
      "cell_type": "markdown",
      "source": [
        "Go to Advent of Code (https://adventofcode.com/) for the full description of the challenge solved here."
      ],
      "metadata": {
        "id": "mp4zMPCta1n2"
      }
    },
    {
      "cell_type": "markdown",
      "source": [
        "Summary of challenge: The Day 4 input contains ranges of numbers stored as letters which represent the range of a cleaning assignment (also referred to as cleaning task in this notebook). Each line of text correspond to two cleaning tasks belonging to two paired elves. In part 1, we need to calculate the number of times the cleaning task (range of numbers) completely overlaps between the two paired elves. In part 2, we need to calculate the number of times the cleaning task (range of numbers) has any overlap (e.g., overlap is just a short range) between the two paired elves."
      ],
      "metadata": {
        "id": "LXOHMM_Sayjf"
      }
    },
    {
      "cell_type": "code",
      "source": [
        "import pandas as pd"
      ],
      "metadata": {
        "id": "9-VJ3zqUa3Rq"
      },
      "execution_count": 40,
      "outputs": []
    },
    {
      "cell_type": "markdown",
      "source": [
        "Part 1"
      ],
      "metadata": {
        "id": "1y_CWD4Fa4eZ"
      }
    },
    {
      "cell_type": "markdown",
      "source": [
        "How many times does the cleaning task completely overlap between the two paired elves?"
      ],
      "metadata": {
        "id": "-Nq2mE-DcNwO"
      }
    },
    {
      "cell_type": "code",
      "source": [
        "# store Day4_input as a list\n",
        "\n",
        "lists = []\n",
        "with open('Day4_input.txt') as file:\n",
        "    for line in file:\n",
        "      lists.append(line)\n",
        "lists[-5:]"
      ],
      "metadata": {
        "id": "OjjP8GrdqBkI",
        "colab": {
          "base_uri": "https://localhost:8080/"
        },
        "outputId": "d74586eb-40a9-45d2-afc3-b2391fa12a28"
      },
      "execution_count": 41,
      "outputs": [
        {
          "output_type": "execute_result",
          "data": {
            "text/plain": [
              "['26-82,25-25\\n',\n",
              " '44-95,43-94\\n',\n",
              " '61-68,9-62\\n',\n",
              " '27-55,28-48\\n',\n",
              " '22-88,20-23']"
            ]
          },
          "metadata": {},
          "execution_count": 41
        }
      ]
    },
    {
      "cell_type": "code",
      "source": [
        "# Splitting the two tasks\n",
        "\n",
        "two_tasks = pd.DataFrame()\n",
        "for i in lists:\n",
        "  two_tasks = two_tasks.append(i.split(','))\n",
        "two_tasks.tail()"
      ],
      "metadata": {
        "colab": {
          "base_uri": "https://localhost:8080/",
          "height": 206
        },
        "id": "Kjd5iuyMryu3",
        "outputId": "71a16c8c-ea6c-4c6f-8367-81c3e3a3489d"
      },
      "execution_count": 42,
      "outputs": [
        {
          "output_type": "execute_result",
          "data": {
            "text/plain": [
              "         0\n",
              "1   9-62\\n\n",
              "0    27-55\n",
              "1  28-48\\n\n",
              "0    22-88\n",
              "1    20-23"
            ],
            "text/html": [
              "\n",
              "  <div id=\"df-b7b60b6b-d064-42bc-8255-f82f6e7e0d63\">\n",
              "    <div class=\"colab-df-container\">\n",
              "      <div>\n",
              "<style scoped>\n",
              "    .dataframe tbody tr th:only-of-type {\n",
              "        vertical-align: middle;\n",
              "    }\n",
              "\n",
              "    .dataframe tbody tr th {\n",
              "        vertical-align: top;\n",
              "    }\n",
              "\n",
              "    .dataframe thead th {\n",
              "        text-align: right;\n",
              "    }\n",
              "</style>\n",
              "<table border=\"1\" class=\"dataframe\">\n",
              "  <thead>\n",
              "    <tr style=\"text-align: right;\">\n",
              "      <th></th>\n",
              "      <th>0</th>\n",
              "    </tr>\n",
              "  </thead>\n",
              "  <tbody>\n",
              "    <tr>\n",
              "      <th>1</th>\n",
              "      <td>9-62\\n</td>\n",
              "    </tr>\n",
              "    <tr>\n",
              "      <th>0</th>\n",
              "      <td>27-55</td>\n",
              "    </tr>\n",
              "    <tr>\n",
              "      <th>1</th>\n",
              "      <td>28-48\\n</td>\n",
              "    </tr>\n",
              "    <tr>\n",
              "      <th>0</th>\n",
              "      <td>22-88</td>\n",
              "    </tr>\n",
              "    <tr>\n",
              "      <th>1</th>\n",
              "      <td>20-23</td>\n",
              "    </tr>\n",
              "  </tbody>\n",
              "</table>\n",
              "</div>\n",
              "      <button class=\"colab-df-convert\" onclick=\"convertToInteractive('df-b7b60b6b-d064-42bc-8255-f82f6e7e0d63')\"\n",
              "              title=\"Convert this dataframe to an interactive table.\"\n",
              "              style=\"display:none;\">\n",
              "        \n",
              "  <svg xmlns=\"http://www.w3.org/2000/svg\" height=\"24px\"viewBox=\"0 0 24 24\"\n",
              "       width=\"24px\">\n",
              "    <path d=\"M0 0h24v24H0V0z\" fill=\"none\"/>\n",
              "    <path d=\"M18.56 5.44l.94 2.06.94-2.06 2.06-.94-2.06-.94-.94-2.06-.94 2.06-2.06.94zm-11 1L8.5 8.5l.94-2.06 2.06-.94-2.06-.94L8.5 2.5l-.94 2.06-2.06.94zm10 10l.94 2.06.94-2.06 2.06-.94-2.06-.94-.94-2.06-.94 2.06-2.06.94z\"/><path d=\"M17.41 7.96l-1.37-1.37c-.4-.4-.92-.59-1.43-.59-.52 0-1.04.2-1.43.59L10.3 9.45l-7.72 7.72c-.78.78-.78 2.05 0 2.83L4 21.41c.39.39.9.59 1.41.59.51 0 1.02-.2 1.41-.59l7.78-7.78 2.81-2.81c.8-.78.8-2.07 0-2.86zM5.41 20L4 18.59l7.72-7.72 1.47 1.35L5.41 20z\"/>\n",
              "  </svg>\n",
              "      </button>\n",
              "      \n",
              "  <style>\n",
              "    .colab-df-container {\n",
              "      display:flex;\n",
              "      flex-wrap:wrap;\n",
              "      gap: 12px;\n",
              "    }\n",
              "\n",
              "    .colab-df-convert {\n",
              "      background-color: #E8F0FE;\n",
              "      border: none;\n",
              "      border-radius: 50%;\n",
              "      cursor: pointer;\n",
              "      display: none;\n",
              "      fill: #1967D2;\n",
              "      height: 32px;\n",
              "      padding: 0 0 0 0;\n",
              "      width: 32px;\n",
              "    }\n",
              "\n",
              "    .colab-df-convert:hover {\n",
              "      background-color: #E2EBFA;\n",
              "      box-shadow: 0px 1px 2px rgba(60, 64, 67, 0.3), 0px 1px 3px 1px rgba(60, 64, 67, 0.15);\n",
              "      fill: #174EA6;\n",
              "    }\n",
              "\n",
              "    [theme=dark] .colab-df-convert {\n",
              "      background-color: #3B4455;\n",
              "      fill: #D2E3FC;\n",
              "    }\n",
              "\n",
              "    [theme=dark] .colab-df-convert:hover {\n",
              "      background-color: #434B5C;\n",
              "      box-shadow: 0px 1px 3px 1px rgba(0, 0, 0, 0.15);\n",
              "      filter: drop-shadow(0px 1px 2px rgba(0, 0, 0, 0.3));\n",
              "      fill: #FFFFFF;\n",
              "    }\n",
              "  </style>\n",
              "\n",
              "      <script>\n",
              "        const buttonEl =\n",
              "          document.querySelector('#df-b7b60b6b-d064-42bc-8255-f82f6e7e0d63 button.colab-df-convert');\n",
              "        buttonEl.style.display =\n",
              "          google.colab.kernel.accessAllowed ? 'block' : 'none';\n",
              "\n",
              "        async function convertToInteractive(key) {\n",
              "          const element = document.querySelector('#df-b7b60b6b-d064-42bc-8255-f82f6e7e0d63');\n",
              "          const dataTable =\n",
              "            await google.colab.kernel.invokeFunction('convertToInteractive',\n",
              "                                                     [key], {});\n",
              "          if (!dataTable) return;\n",
              "\n",
              "          const docLinkHtml = 'Like what you see? Visit the ' +\n",
              "            '<a target=\"_blank\" href=https://colab.research.google.com/notebooks/data_table.ipynb>data table notebook</a>'\n",
              "            + ' to learn more about interactive tables.';\n",
              "          element.innerHTML = '';\n",
              "          dataTable['output_type'] = 'display_data';\n",
              "          await google.colab.output.renderOutput(dataTable, element);\n",
              "          const docLink = document.createElement('div');\n",
              "          docLink.innerHTML = docLinkHtml;\n",
              "          element.appendChild(docLink);\n",
              "        }\n",
              "      </script>\n",
              "    </div>\n",
              "  </div>\n",
              "  "
            ]
          },
          "metadata": {},
          "execution_count": 42
        }
      ]
    },
    {
      "cell_type": "code",
      "source": [
        "# number of rows\n",
        "\n",
        "len(two_tasks[0])"
      ],
      "metadata": {
        "colab": {
          "base_uri": "https://localhost:8080/"
        },
        "id": "mwCEbdkzvzUJ",
        "outputId": "801dbe3a-ef48-4432-d080-8ae003e657c2"
      },
      "execution_count": 43,
      "outputs": [
        {
          "output_type": "execute_result",
          "data": {
            "text/plain": [
              "2000"
            ]
          },
          "metadata": {},
          "execution_count": 43
        }
      ]
    },
    {
      "cell_type": "code",
      "source": [
        "# Creating a loop that splits the two tasks\n",
        "\n",
        "first_task=[]\n",
        "second_task=[]\n",
        "counter=-1\n",
        "for i in two_tasks[0]:\n",
        "  counter+=1\n",
        "  if counter!=1999: # counter necessary because the last element does not contain '\\n'\n",
        "    if i.__contains__('\\n'): # leverage the instance method based on occurence of '\\n'\n",
        "      second_task.append(i)\n",
        "    else:\n",
        "      first_task.append(i)\n",
        "  else:\n",
        "    second_task.append(i)"
      ],
      "metadata": {
        "id": "lcYzDdbSsZJy"
      },
      "execution_count": 44,
      "outputs": []
    },
    {
      "cell_type": "code",
      "source": [
        "# The tasks have been correctly split\n",
        "\n",
        "print(len(second_task), len(first_task))"
      ],
      "metadata": {
        "colab": {
          "base_uri": "https://localhost:8080/"
        },
        "id": "1-VI9gs_tiux",
        "outputId": "61801543-aaa5-4b75-fa95-cdd69bd4afce"
      },
      "execution_count": 45,
      "outputs": [
        {
          "output_type": "stream",
          "name": "stdout",
          "text": [
            "1000 1000\n"
          ]
        }
      ]
    },
    {
      "cell_type": "code",
      "source": [
        "# Creating a dataframe that contains the two tasks in different columns\n",
        "\n",
        "refined_two_tasks=pd.DataFrame()\n",
        "refined_two_tasks['first_task']=first_task\n",
        "refined_two_tasks['second_task']=second_task\n",
        "\n",
        "refined_two_tasks.head()"
      ],
      "metadata": {
        "id": "wq4N8hjDucb9",
        "colab": {
          "base_uri": "https://localhost:8080/",
          "height": 206
        },
        "outputId": "c2777c2b-b4ae-4bdb-ef09-afa9f0a8aa02"
      },
      "execution_count": 46,
      "outputs": [
        {
          "output_type": "execute_result",
          "data": {
            "text/plain": [
              "  first_task second_task\n",
              "0      15-60     14-59\\n\n",
              "1      32-80     17-79\\n\n",
              "2      47-80     79-80\\n\n",
              "3      64-64     12-63\\n\n",
              "4      93-93      8-92\\n"
            ],
            "text/html": [
              "\n",
              "  <div id=\"df-add02f85-1c35-4357-bafe-90d102787ebd\">\n",
              "    <div class=\"colab-df-container\">\n",
              "      <div>\n",
              "<style scoped>\n",
              "    .dataframe tbody tr th:only-of-type {\n",
              "        vertical-align: middle;\n",
              "    }\n",
              "\n",
              "    .dataframe tbody tr th {\n",
              "        vertical-align: top;\n",
              "    }\n",
              "\n",
              "    .dataframe thead th {\n",
              "        text-align: right;\n",
              "    }\n",
              "</style>\n",
              "<table border=\"1\" class=\"dataframe\">\n",
              "  <thead>\n",
              "    <tr style=\"text-align: right;\">\n",
              "      <th></th>\n",
              "      <th>first_task</th>\n",
              "      <th>second_task</th>\n",
              "    </tr>\n",
              "  </thead>\n",
              "  <tbody>\n",
              "    <tr>\n",
              "      <th>0</th>\n",
              "      <td>15-60</td>\n",
              "      <td>14-59\\n</td>\n",
              "    </tr>\n",
              "    <tr>\n",
              "      <th>1</th>\n",
              "      <td>32-80</td>\n",
              "      <td>17-79\\n</td>\n",
              "    </tr>\n",
              "    <tr>\n",
              "      <th>2</th>\n",
              "      <td>47-80</td>\n",
              "      <td>79-80\\n</td>\n",
              "    </tr>\n",
              "    <tr>\n",
              "      <th>3</th>\n",
              "      <td>64-64</td>\n",
              "      <td>12-63\\n</td>\n",
              "    </tr>\n",
              "    <tr>\n",
              "      <th>4</th>\n",
              "      <td>93-93</td>\n",
              "      <td>8-92\\n</td>\n",
              "    </tr>\n",
              "  </tbody>\n",
              "</table>\n",
              "</div>\n",
              "      <button class=\"colab-df-convert\" onclick=\"convertToInteractive('df-add02f85-1c35-4357-bafe-90d102787ebd')\"\n",
              "              title=\"Convert this dataframe to an interactive table.\"\n",
              "              style=\"display:none;\">\n",
              "        \n",
              "  <svg xmlns=\"http://www.w3.org/2000/svg\" height=\"24px\"viewBox=\"0 0 24 24\"\n",
              "       width=\"24px\">\n",
              "    <path d=\"M0 0h24v24H0V0z\" fill=\"none\"/>\n",
              "    <path d=\"M18.56 5.44l.94 2.06.94-2.06 2.06-.94-2.06-.94-.94-2.06-.94 2.06-2.06.94zm-11 1L8.5 8.5l.94-2.06 2.06-.94-2.06-.94L8.5 2.5l-.94 2.06-2.06.94zm10 10l.94 2.06.94-2.06 2.06-.94-2.06-.94-.94-2.06-.94 2.06-2.06.94z\"/><path d=\"M17.41 7.96l-1.37-1.37c-.4-.4-.92-.59-1.43-.59-.52 0-1.04.2-1.43.59L10.3 9.45l-7.72 7.72c-.78.78-.78 2.05 0 2.83L4 21.41c.39.39.9.59 1.41.59.51 0 1.02-.2 1.41-.59l7.78-7.78 2.81-2.81c.8-.78.8-2.07 0-2.86zM5.41 20L4 18.59l7.72-7.72 1.47 1.35L5.41 20z\"/>\n",
              "  </svg>\n",
              "      </button>\n",
              "      \n",
              "  <style>\n",
              "    .colab-df-container {\n",
              "      display:flex;\n",
              "      flex-wrap:wrap;\n",
              "      gap: 12px;\n",
              "    }\n",
              "\n",
              "    .colab-df-convert {\n",
              "      background-color: #E8F0FE;\n",
              "      border: none;\n",
              "      border-radius: 50%;\n",
              "      cursor: pointer;\n",
              "      display: none;\n",
              "      fill: #1967D2;\n",
              "      height: 32px;\n",
              "      padding: 0 0 0 0;\n",
              "      width: 32px;\n",
              "    }\n",
              "\n",
              "    .colab-df-convert:hover {\n",
              "      background-color: #E2EBFA;\n",
              "      box-shadow: 0px 1px 2px rgba(60, 64, 67, 0.3), 0px 1px 3px 1px rgba(60, 64, 67, 0.15);\n",
              "      fill: #174EA6;\n",
              "    }\n",
              "\n",
              "    [theme=dark] .colab-df-convert {\n",
              "      background-color: #3B4455;\n",
              "      fill: #D2E3FC;\n",
              "    }\n",
              "\n",
              "    [theme=dark] .colab-df-convert:hover {\n",
              "      background-color: #434B5C;\n",
              "      box-shadow: 0px 1px 3px 1px rgba(0, 0, 0, 0.15);\n",
              "      filter: drop-shadow(0px 1px 2px rgba(0, 0, 0, 0.3));\n",
              "      fill: #FFFFFF;\n",
              "    }\n",
              "  </style>\n",
              "\n",
              "      <script>\n",
              "        const buttonEl =\n",
              "          document.querySelector('#df-add02f85-1c35-4357-bafe-90d102787ebd button.colab-df-convert');\n",
              "        buttonEl.style.display =\n",
              "          google.colab.kernel.accessAllowed ? 'block' : 'none';\n",
              "\n",
              "        async function convertToInteractive(key) {\n",
              "          const element = document.querySelector('#df-add02f85-1c35-4357-bafe-90d102787ebd');\n",
              "          const dataTable =\n",
              "            await google.colab.kernel.invokeFunction('convertToInteractive',\n",
              "                                                     [key], {});\n",
              "          if (!dataTable) return;\n",
              "\n",
              "          const docLinkHtml = 'Like what you see? Visit the ' +\n",
              "            '<a target=\"_blank\" href=https://colab.research.google.com/notebooks/data_table.ipynb>data table notebook</a>'\n",
              "            + ' to learn more about interactive tables.';\n",
              "          element.innerHTML = '';\n",
              "          dataTable['output_type'] = 'display_data';\n",
              "          await google.colab.output.renderOutput(dataTable, element);\n",
              "          const docLink = document.createElement('div');\n",
              "          docLink.innerHTML = docLinkHtml;\n",
              "          element.appendChild(docLink);\n",
              "        }\n",
              "      </script>\n",
              "    </div>\n",
              "  </div>\n",
              "  "
            ]
          },
          "metadata": {},
          "execution_count": 46
        }
      ]
    },
    {
      "cell_type": "code",
      "source": [
        "# Creating a function that removes the '\\n' from the second_task column\n",
        "\n",
        "def remover(x):\n",
        "    return x.replace('\\n', '').strip()"
      ],
      "metadata": {
        "id": "fxoivV02wfXt"
      },
      "execution_count": 47,
      "outputs": []
    },
    {
      "cell_type": "code",
      "source": [
        "# Using the remover function on the second_task column\n",
        "\n",
        "refined_two_tasks['second_task'] = refined_two_tasks['second_task'].apply(remover)"
      ],
      "metadata": {
        "id": "9KsWOoCLuxE-"
      },
      "execution_count": 49,
      "outputs": []
    },
    {
      "cell_type": "code",
      "source": [
        "# Splitting the first_task column into two numbers\n",
        "\n",
        "first_number=[]\n",
        "second_number=[]\n",
        "for i in refined_two_tasks['first_task']:\n",
        "  first_number.append(i.split('-')[0]) # appends the first number\n",
        "  second_number.append(i.split('-')[1]) # appends the second number"
      ],
      "metadata": {
        "id": "5BEuftinxlX9"
      },
      "execution_count": 50,
      "outputs": []
    },
    {
      "cell_type": "code",
      "source": [
        "# The first_task has been correctly split\n",
        "\n",
        "print(len(first_number), len(second_number))"
      ],
      "metadata": {
        "colab": {
          "base_uri": "https://localhost:8080/"
        },
        "id": "1h5aoEXSydvj",
        "outputId": "f5d7b47e-72b3-4cc0-cba5-448aab791908"
      },
      "execution_count": 51,
      "outputs": [
        {
          "output_type": "stream",
          "name": "stdout",
          "text": [
            "1000 1000\n"
          ]
        }
      ]
    },
    {
      "cell_type": "code",
      "source": [
        "# Adding the two numbers from the first_task into the dataframe\n",
        "\n",
        "refined_two_tasks['first_task_one']= first_number\n",
        "refined_two_tasks['first_task_two']= second_number\n",
        "refined_two_tasks.head()"
      ],
      "metadata": {
        "colab": {
          "base_uri": "https://localhost:8080/",
          "height": 206
        },
        "id": "9nUxLYSlyfGa",
        "outputId": "0df6f4c7-a6dc-4827-b4a0-11198fd3bed0"
      },
      "execution_count": 52,
      "outputs": [
        {
          "output_type": "execute_result",
          "data": {
            "text/plain": [
              "  first_task second_task first_task_one first_task_two\n",
              "0      15-60       14-59             15             60\n",
              "1      32-80       17-79             32             80\n",
              "2      47-80       79-80             47             80\n",
              "3      64-64       12-63             64             64\n",
              "4      93-93        8-92             93             93"
            ],
            "text/html": [
              "\n",
              "  <div id=\"df-c645e409-8ed8-4dd3-85c0-65620018716c\">\n",
              "    <div class=\"colab-df-container\">\n",
              "      <div>\n",
              "<style scoped>\n",
              "    .dataframe tbody tr th:only-of-type {\n",
              "        vertical-align: middle;\n",
              "    }\n",
              "\n",
              "    .dataframe tbody tr th {\n",
              "        vertical-align: top;\n",
              "    }\n",
              "\n",
              "    .dataframe thead th {\n",
              "        text-align: right;\n",
              "    }\n",
              "</style>\n",
              "<table border=\"1\" class=\"dataframe\">\n",
              "  <thead>\n",
              "    <tr style=\"text-align: right;\">\n",
              "      <th></th>\n",
              "      <th>first_task</th>\n",
              "      <th>second_task</th>\n",
              "      <th>first_task_one</th>\n",
              "      <th>first_task_two</th>\n",
              "    </tr>\n",
              "  </thead>\n",
              "  <tbody>\n",
              "    <tr>\n",
              "      <th>0</th>\n",
              "      <td>15-60</td>\n",
              "      <td>14-59</td>\n",
              "      <td>15</td>\n",
              "      <td>60</td>\n",
              "    </tr>\n",
              "    <tr>\n",
              "      <th>1</th>\n",
              "      <td>32-80</td>\n",
              "      <td>17-79</td>\n",
              "      <td>32</td>\n",
              "      <td>80</td>\n",
              "    </tr>\n",
              "    <tr>\n",
              "      <th>2</th>\n",
              "      <td>47-80</td>\n",
              "      <td>79-80</td>\n",
              "      <td>47</td>\n",
              "      <td>80</td>\n",
              "    </tr>\n",
              "    <tr>\n",
              "      <th>3</th>\n",
              "      <td>64-64</td>\n",
              "      <td>12-63</td>\n",
              "      <td>64</td>\n",
              "      <td>64</td>\n",
              "    </tr>\n",
              "    <tr>\n",
              "      <th>4</th>\n",
              "      <td>93-93</td>\n",
              "      <td>8-92</td>\n",
              "      <td>93</td>\n",
              "      <td>93</td>\n",
              "    </tr>\n",
              "  </tbody>\n",
              "</table>\n",
              "</div>\n",
              "      <button class=\"colab-df-convert\" onclick=\"convertToInteractive('df-c645e409-8ed8-4dd3-85c0-65620018716c')\"\n",
              "              title=\"Convert this dataframe to an interactive table.\"\n",
              "              style=\"display:none;\">\n",
              "        \n",
              "  <svg xmlns=\"http://www.w3.org/2000/svg\" height=\"24px\"viewBox=\"0 0 24 24\"\n",
              "       width=\"24px\">\n",
              "    <path d=\"M0 0h24v24H0V0z\" fill=\"none\"/>\n",
              "    <path d=\"M18.56 5.44l.94 2.06.94-2.06 2.06-.94-2.06-.94-.94-2.06-.94 2.06-2.06.94zm-11 1L8.5 8.5l.94-2.06 2.06-.94-2.06-.94L8.5 2.5l-.94 2.06-2.06.94zm10 10l.94 2.06.94-2.06 2.06-.94-2.06-.94-.94-2.06-.94 2.06-2.06.94z\"/><path d=\"M17.41 7.96l-1.37-1.37c-.4-.4-.92-.59-1.43-.59-.52 0-1.04.2-1.43.59L10.3 9.45l-7.72 7.72c-.78.78-.78 2.05 0 2.83L4 21.41c.39.39.9.59 1.41.59.51 0 1.02-.2 1.41-.59l7.78-7.78 2.81-2.81c.8-.78.8-2.07 0-2.86zM5.41 20L4 18.59l7.72-7.72 1.47 1.35L5.41 20z\"/>\n",
              "  </svg>\n",
              "      </button>\n",
              "      \n",
              "  <style>\n",
              "    .colab-df-container {\n",
              "      display:flex;\n",
              "      flex-wrap:wrap;\n",
              "      gap: 12px;\n",
              "    }\n",
              "\n",
              "    .colab-df-convert {\n",
              "      background-color: #E8F0FE;\n",
              "      border: none;\n",
              "      border-radius: 50%;\n",
              "      cursor: pointer;\n",
              "      display: none;\n",
              "      fill: #1967D2;\n",
              "      height: 32px;\n",
              "      padding: 0 0 0 0;\n",
              "      width: 32px;\n",
              "    }\n",
              "\n",
              "    .colab-df-convert:hover {\n",
              "      background-color: #E2EBFA;\n",
              "      box-shadow: 0px 1px 2px rgba(60, 64, 67, 0.3), 0px 1px 3px 1px rgba(60, 64, 67, 0.15);\n",
              "      fill: #174EA6;\n",
              "    }\n",
              "\n",
              "    [theme=dark] .colab-df-convert {\n",
              "      background-color: #3B4455;\n",
              "      fill: #D2E3FC;\n",
              "    }\n",
              "\n",
              "    [theme=dark] .colab-df-convert:hover {\n",
              "      background-color: #434B5C;\n",
              "      box-shadow: 0px 1px 3px 1px rgba(0, 0, 0, 0.15);\n",
              "      filter: drop-shadow(0px 1px 2px rgba(0, 0, 0, 0.3));\n",
              "      fill: #FFFFFF;\n",
              "    }\n",
              "  </style>\n",
              "\n",
              "      <script>\n",
              "        const buttonEl =\n",
              "          document.querySelector('#df-c645e409-8ed8-4dd3-85c0-65620018716c button.colab-df-convert');\n",
              "        buttonEl.style.display =\n",
              "          google.colab.kernel.accessAllowed ? 'block' : 'none';\n",
              "\n",
              "        async function convertToInteractive(key) {\n",
              "          const element = document.querySelector('#df-c645e409-8ed8-4dd3-85c0-65620018716c');\n",
              "          const dataTable =\n",
              "            await google.colab.kernel.invokeFunction('convertToInteractive',\n",
              "                                                     [key], {});\n",
              "          if (!dataTable) return;\n",
              "\n",
              "          const docLinkHtml = 'Like what you see? Visit the ' +\n",
              "            '<a target=\"_blank\" href=https://colab.research.google.com/notebooks/data_table.ipynb>data table notebook</a>'\n",
              "            + ' to learn more about interactive tables.';\n",
              "          element.innerHTML = '';\n",
              "          dataTable['output_type'] = 'display_data';\n",
              "          await google.colab.output.renderOutput(dataTable, element);\n",
              "          const docLink = document.createElement('div');\n",
              "          docLink.innerHTML = docLinkHtml;\n",
              "          element.appendChild(docLink);\n",
              "        }\n",
              "      </script>\n",
              "    </div>\n",
              "  </div>\n",
              "  "
            ]
          },
          "metadata": {},
          "execution_count": 52
        }
      ]
    },
    {
      "cell_type": "code",
      "source": [
        "# Splitting the second_task column into two numbers\n",
        "\n",
        "first_number=[]\n",
        "second_number=[]\n",
        "for i in refined_two_tasks['second_task']:\n",
        "  first_number.append(i.split('-')[0])\n",
        "  second_number.append(i.split('-')[1])"
      ],
      "metadata": {
        "id": "yW__mMqGzBoS"
      },
      "execution_count": 53,
      "outputs": []
    },
    {
      "cell_type": "code",
      "source": [
        "# Adding the two numbers from the second_task into the dataframe\n",
        "\n",
        "refined_two_tasks['second_task_one']= first_number\n",
        "refined_two_tasks['second_task_two']= second_number\n",
        "refined_two_tasks.head()"
      ],
      "metadata": {
        "colab": {
          "base_uri": "https://localhost:8080/",
          "height": 206
        },
        "id": "PW6vppcMzH8p",
        "outputId": "1b302c70-dba1-4255-d5e6-2cb958754636"
      },
      "execution_count": 54,
      "outputs": [
        {
          "output_type": "execute_result",
          "data": {
            "text/plain": [
              "  first_task second_task first_task_one first_task_two second_task_one  \\\n",
              "0      15-60       14-59             15             60              14   \n",
              "1      32-80       17-79             32             80              17   \n",
              "2      47-80       79-80             47             80              79   \n",
              "3      64-64       12-63             64             64              12   \n",
              "4      93-93        8-92             93             93               8   \n",
              "\n",
              "  second_task_two  \n",
              "0              59  \n",
              "1              79  \n",
              "2              80  \n",
              "3              63  \n",
              "4              92  "
            ],
            "text/html": [
              "\n",
              "  <div id=\"df-3edaa6eb-5d81-4d80-a183-7ec171c65fad\">\n",
              "    <div class=\"colab-df-container\">\n",
              "      <div>\n",
              "<style scoped>\n",
              "    .dataframe tbody tr th:only-of-type {\n",
              "        vertical-align: middle;\n",
              "    }\n",
              "\n",
              "    .dataframe tbody tr th {\n",
              "        vertical-align: top;\n",
              "    }\n",
              "\n",
              "    .dataframe thead th {\n",
              "        text-align: right;\n",
              "    }\n",
              "</style>\n",
              "<table border=\"1\" class=\"dataframe\">\n",
              "  <thead>\n",
              "    <tr style=\"text-align: right;\">\n",
              "      <th></th>\n",
              "      <th>first_task</th>\n",
              "      <th>second_task</th>\n",
              "      <th>first_task_one</th>\n",
              "      <th>first_task_two</th>\n",
              "      <th>second_task_one</th>\n",
              "      <th>second_task_two</th>\n",
              "    </tr>\n",
              "  </thead>\n",
              "  <tbody>\n",
              "    <tr>\n",
              "      <th>0</th>\n",
              "      <td>15-60</td>\n",
              "      <td>14-59</td>\n",
              "      <td>15</td>\n",
              "      <td>60</td>\n",
              "      <td>14</td>\n",
              "      <td>59</td>\n",
              "    </tr>\n",
              "    <tr>\n",
              "      <th>1</th>\n",
              "      <td>32-80</td>\n",
              "      <td>17-79</td>\n",
              "      <td>32</td>\n",
              "      <td>80</td>\n",
              "      <td>17</td>\n",
              "      <td>79</td>\n",
              "    </tr>\n",
              "    <tr>\n",
              "      <th>2</th>\n",
              "      <td>47-80</td>\n",
              "      <td>79-80</td>\n",
              "      <td>47</td>\n",
              "      <td>80</td>\n",
              "      <td>79</td>\n",
              "      <td>80</td>\n",
              "    </tr>\n",
              "    <tr>\n",
              "      <th>3</th>\n",
              "      <td>64-64</td>\n",
              "      <td>12-63</td>\n",
              "      <td>64</td>\n",
              "      <td>64</td>\n",
              "      <td>12</td>\n",
              "      <td>63</td>\n",
              "    </tr>\n",
              "    <tr>\n",
              "      <th>4</th>\n",
              "      <td>93-93</td>\n",
              "      <td>8-92</td>\n",
              "      <td>93</td>\n",
              "      <td>93</td>\n",
              "      <td>8</td>\n",
              "      <td>92</td>\n",
              "    </tr>\n",
              "  </tbody>\n",
              "</table>\n",
              "</div>\n",
              "      <button class=\"colab-df-convert\" onclick=\"convertToInteractive('df-3edaa6eb-5d81-4d80-a183-7ec171c65fad')\"\n",
              "              title=\"Convert this dataframe to an interactive table.\"\n",
              "              style=\"display:none;\">\n",
              "        \n",
              "  <svg xmlns=\"http://www.w3.org/2000/svg\" height=\"24px\"viewBox=\"0 0 24 24\"\n",
              "       width=\"24px\">\n",
              "    <path d=\"M0 0h24v24H0V0z\" fill=\"none\"/>\n",
              "    <path d=\"M18.56 5.44l.94 2.06.94-2.06 2.06-.94-2.06-.94-.94-2.06-.94 2.06-2.06.94zm-11 1L8.5 8.5l.94-2.06 2.06-.94-2.06-.94L8.5 2.5l-.94 2.06-2.06.94zm10 10l.94 2.06.94-2.06 2.06-.94-2.06-.94-.94-2.06-.94 2.06-2.06.94z\"/><path d=\"M17.41 7.96l-1.37-1.37c-.4-.4-.92-.59-1.43-.59-.52 0-1.04.2-1.43.59L10.3 9.45l-7.72 7.72c-.78.78-.78 2.05 0 2.83L4 21.41c.39.39.9.59 1.41.59.51 0 1.02-.2 1.41-.59l7.78-7.78 2.81-2.81c.8-.78.8-2.07 0-2.86zM5.41 20L4 18.59l7.72-7.72 1.47 1.35L5.41 20z\"/>\n",
              "  </svg>\n",
              "      </button>\n",
              "      \n",
              "  <style>\n",
              "    .colab-df-container {\n",
              "      display:flex;\n",
              "      flex-wrap:wrap;\n",
              "      gap: 12px;\n",
              "    }\n",
              "\n",
              "    .colab-df-convert {\n",
              "      background-color: #E8F0FE;\n",
              "      border: none;\n",
              "      border-radius: 50%;\n",
              "      cursor: pointer;\n",
              "      display: none;\n",
              "      fill: #1967D2;\n",
              "      height: 32px;\n",
              "      padding: 0 0 0 0;\n",
              "      width: 32px;\n",
              "    }\n",
              "\n",
              "    .colab-df-convert:hover {\n",
              "      background-color: #E2EBFA;\n",
              "      box-shadow: 0px 1px 2px rgba(60, 64, 67, 0.3), 0px 1px 3px 1px rgba(60, 64, 67, 0.15);\n",
              "      fill: #174EA6;\n",
              "    }\n",
              "\n",
              "    [theme=dark] .colab-df-convert {\n",
              "      background-color: #3B4455;\n",
              "      fill: #D2E3FC;\n",
              "    }\n",
              "\n",
              "    [theme=dark] .colab-df-convert:hover {\n",
              "      background-color: #434B5C;\n",
              "      box-shadow: 0px 1px 3px 1px rgba(0, 0, 0, 0.15);\n",
              "      filter: drop-shadow(0px 1px 2px rgba(0, 0, 0, 0.3));\n",
              "      fill: #FFFFFF;\n",
              "    }\n",
              "  </style>\n",
              "\n",
              "      <script>\n",
              "        const buttonEl =\n",
              "          document.querySelector('#df-3edaa6eb-5d81-4d80-a183-7ec171c65fad button.colab-df-convert');\n",
              "        buttonEl.style.display =\n",
              "          google.colab.kernel.accessAllowed ? 'block' : 'none';\n",
              "\n",
              "        async function convertToInteractive(key) {\n",
              "          const element = document.querySelector('#df-3edaa6eb-5d81-4d80-a183-7ec171c65fad');\n",
              "          const dataTable =\n",
              "            await google.colab.kernel.invokeFunction('convertToInteractive',\n",
              "                                                     [key], {});\n",
              "          if (!dataTable) return;\n",
              "\n",
              "          const docLinkHtml = 'Like what you see? Visit the ' +\n",
              "            '<a target=\"_blank\" href=https://colab.research.google.com/notebooks/data_table.ipynb>data table notebook</a>'\n",
              "            + ' to learn more about interactive tables.';\n",
              "          element.innerHTML = '';\n",
              "          dataTable['output_type'] = 'display_data';\n",
              "          await google.colab.output.renderOutput(dataTable, element);\n",
              "          const docLink = document.createElement('div');\n",
              "          docLink.innerHTML = docLinkHtml;\n",
              "          element.appendChild(docLink);\n",
              "        }\n",
              "      </script>\n",
              "    </div>\n",
              "  </div>\n",
              "  "
            ]
          },
          "metadata": {},
          "execution_count": 54
        }
      ]
    },
    {
      "cell_type": "code",
      "source": [
        "# Checking the data types\n",
        "\n",
        "refined_two_tasks.dtypes"
      ],
      "metadata": {
        "colab": {
          "base_uri": "https://localhost:8080/"
        },
        "id": "0QzOkZWAzKbV",
        "outputId": "6b41f31d-a0f5-4539-dab9-df396c96e474"
      },
      "execution_count": 55,
      "outputs": [
        {
          "output_type": "execute_result",
          "data": {
            "text/plain": [
              "first_task         object\n",
              "second_task        object\n",
              "first_task_one     object\n",
              "first_task_two     object\n",
              "second_task_one    object\n",
              "second_task_two    object\n",
              "dtype: object"
            ]
          },
          "metadata": {},
          "execution_count": 55
        }
      ]
    },
    {
      "cell_type": "code",
      "source": [
        "# Changing the datatype of numbers in the dataframe from object to integer\n",
        "\n",
        "refined_two_tasks['first_task_one'] = refined_two_tasks['first_task_one'].astype(int)\n",
        "refined_two_tasks['first_task_two']= refined_two_tasks['first_task_two'].astype(int)\n",
        "refined_two_tasks['second_task_one'] = refined_two_tasks['second_task_one'].astype(int)\n",
        "refined_two_tasks['second_task_two']= refined_two_tasks['second_task_two'].astype(int)\n",
        "\n",
        "refined_two_tasks.dtypes"
      ],
      "metadata": {
        "id": "I1rH5pqlz2qG",
        "colab": {
          "base_uri": "https://localhost:8080/"
        },
        "outputId": "d7538ceb-8e4d-4f48-aa81-d4a3dee0235d"
      },
      "execution_count": 56,
      "outputs": [
        {
          "output_type": "execute_result",
          "data": {
            "text/plain": [
              "first_task         object\n",
              "second_task        object\n",
              "first_task_one      int64\n",
              "first_task_two      int64\n",
              "second_task_one     int64\n",
              "second_task_two     int64\n",
              "dtype: object"
            ]
          },
          "metadata": {},
          "execution_count": 56
        }
      ]
    },
    {
      "cell_type": "code",
      "source": [
        "# Determining how many times elves have completely overlapping tasks\n",
        "\n",
        "whole_range=0\n",
        "for i in range(0,1000):\n",
        "  # when the given tasks are the same \n",
        "  if refined_two_tasks['first_task_one'][i]==refined_two_tasks['second_task_one'][i]:\n",
        "    whole_range+=1\n",
        "  # when the second task contains the entire first task\n",
        "  elif refined_two_tasks['first_task_one'][i] > refined_two_tasks['second_task_one'][i] and refined_two_tasks['first_task_two'][i] <= refined_two_tasks['second_task_two'][i]:\n",
        "    whole_range+=1\n",
        "  # when the first task contains the entire second task\n",
        "  elif refined_two_tasks['first_task_one'][i] < refined_two_tasks['second_task_one'][i] and refined_two_tasks['first_task_two'][i] >= refined_two_tasks['second_task_two'][i]:\n",
        "    whole_range+=1\n",
        "\n",
        "# View how many times the elves have completely overlapping tasks\n",
        "whole_range"
      ],
      "metadata": {
        "id": "p-b-c41NEqW9",
        "colab": {
          "base_uri": "https://localhost:8080/"
        },
        "outputId": "f663c578-d6aa-4a4f-debf-0d711073cad7"
      },
      "execution_count": 57,
      "outputs": [
        {
          "output_type": "execute_result",
          "data": {
            "text/plain": [
              "466"
            ]
          },
          "metadata": {},
          "execution_count": 57
        }
      ]
    },
    {
      "cell_type": "markdown",
      "source": [
        "Part Two"
      ],
      "metadata": {
        "id": "Ms_GDEnVFw7I"
      }
    },
    {
      "cell_type": "markdown",
      "source": [
        "How many times does the cleaning task have any overlap (e.g., short overlap in range) between the two paired elves?"
      ],
      "metadata": {
        "id": "gOTFHFeyc353"
      }
    },
    {
      "cell_type": "code",
      "source": [
        "# Determining how many times elves have at least somewhat overlapping tasks\n",
        "\n",
        "some_range=0\n",
        "for i in range(0,1000):\n",
        "  # when the first number of the first task is within the second task\n",
        "  if refined_two_tasks['second_task_one'][i] <= refined_two_tasks['first_task_one'][i] <= refined_two_tasks['second_task_two'][i]:\n",
        "    some_range+=1\n",
        "  # when the second number of the first task is within the second task\n",
        "  elif refined_two_tasks['second_task_one'][i] <= refined_two_tasks['first_task_two'][i] <= refined_two_tasks['second_task_two'][i]:\n",
        "    some_range+=1\n",
        "   # when the first number of the second task is within the first task\n",
        "  elif refined_two_tasks['first_task_one'][i] <= refined_two_tasks['second_task_one'][i] <= refined_two_tasks['first_task_two'][i]:\n",
        "    some_range+=1\n",
        "  # when the second number of the second task is within the first task\n",
        "  elif refined_two_tasks['first_task_one'][i] <= refined_two_tasks['second_task_two'][i] <= refined_two_tasks['first_task_two'][i]:\n",
        "    some_range+=1\n",
        "\n",
        "# View how many times the elves have at least somewhat overlapping tasks\n",
        "some_range"
      ],
      "metadata": {
        "colab": {
          "base_uri": "https://localhost:8080/"
        },
        "id": "iuK7z_r-ZeGw",
        "outputId": "6a9f5b2d-39c0-4d05-dbff-4c38a5dc1fa5"
      },
      "execution_count": 58,
      "outputs": [
        {
          "output_type": "execute_result",
          "data": {
            "text/plain": [
              "865"
            ]
          },
          "metadata": {},
          "execution_count": 58
        }
      ]
    },
    {
      "cell_type": "code",
      "source": [],
      "metadata": {
        "id": "nN_2LnzEacGn"
      },
      "execution_count": null,
      "outputs": []
    }
  ]
}